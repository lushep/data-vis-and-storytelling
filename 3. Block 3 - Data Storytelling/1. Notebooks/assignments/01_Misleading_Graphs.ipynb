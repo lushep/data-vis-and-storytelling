{
 "cells": [
  {
   "cell_type": "markdown",
   "metadata": {},
   "source": [
    "<img src=../images/gdd-logo.png align=right width=300px>\n",
    "\n",
    "# Place/People: Misleading Charts\n",
    "\n",
    "The purpose of this assignment is to be as ***misleading as possible***. \n",
    "\n",
    "Once you understand how things can be misleading you should be able to understand how things can be rectified to be clearer and true.\n",
    "\n",
    "Once you have finished this assignment, you will pair up and share your graph. You will then be tasked with removing the misleading elements from your partner's graph."
   ]
  },
  {
   "cell_type": "markdown",
   "metadata": {},
   "source": [
    "Choose the data you would like to work on for this exercise. This can be your own data or something from the data folder. **Remember you will share this with another participant so pick non-sensitive data**"
   ]
  },
  {
   "cell_type": "code",
   "execution_count": null,
   "metadata": {},
   "outputs": [],
   "source": [
    "import pandas as pd\n",
    "import matplotlib.pyplot as plt"
   ]
  },
  {
   "cell_type": "markdown",
   "metadata": {},
   "source": [
    "Use the code below to list all the data available for you to choose."
   ]
  },
  {
   "cell_type": "code",
   "execution_count": null,
   "metadata": {},
   "outputs": [],
   "source": [
    "import glob\n",
    "glob.glob('../data/*.csv')"
   ]
  },
  {
   "cell_type": "markdown",
   "metadata": {},
   "source": [
    "**Step 1:** Decide what you want to show (eg. revenue by department). Create a basic chart that displays what you want with the bare minimum - eg. just using .plot()"
   ]
  },
  {
   "cell_type": "code",
   "execution_count": null,
   "metadata": {},
   "outputs": [],
   "source": []
  },
  {
   "cell_type": "markdown",
   "metadata": {},
   "source": [
    "**Step 2:** Now make it as misleading as possible, using any of the elements discussed:\n",
    "\n",
    "- Type of chart used (over complicated or too simple)\n",
    "- Omitting data or limiting ranges\n",
    "- Small observation windows\n",
    "- 3D charts\n",
    "- Too much information in the chart\n",
    "- A secondary y axis\n",
    "- Illusionary relationships"
   ]
  },
  {
   "cell_type": "code",
   "execution_count": null,
   "metadata": {},
   "outputs": [],
   "source": []
  }
 ],
 "metadata": {
  "kernelspec": {
   "display_name": "Python 3 (ipykernel)",
   "language": "python",
   "name": "python3"
  },
  "language_info": {
   "codemirror_mode": {
    "name": "ipython",
    "version": 3
   },
   "file_extension": ".py",
   "mimetype": "text/x-python",
   "name": "python",
   "nbconvert_exporter": "python",
   "pygments_lexer": "ipython3",
   "version": "3.9.7"
  }
 },
 "nbformat": 4,
 "nbformat_minor": 4
}
