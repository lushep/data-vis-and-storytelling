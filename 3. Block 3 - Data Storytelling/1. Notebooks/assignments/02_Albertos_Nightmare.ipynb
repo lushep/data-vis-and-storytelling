{
 "cells": [
  {
   "cell_type": "markdown",
   "metadata": {},
   "source": [
    "<img src=../images/gdd-logo.png align=right width=300px>\n",
    "\n",
    "# People: Graphic Design with Alberto's Wheel\n",
    "\n",
    "Alberto Cairo (The Functional Art) presents the [Visualisation Wheel tool](https://ryanwingate.com/visualization/guidelines/visualization-wheel/) for thinking about trade offs in visualisation.\n",
    "\n",
    "- The top half represents visuals which contain deep, complex data.\n",
    "- The bottom half represents visuals that provides accessible, but shallower, data.\n",
    "\n",
    "<img src=../images/alberto.png width=300px align=left style=\"padding:30px\">\n",
    "\n",
    "**More specific trade offs include:**\n",
    "\n",
    "- Abstraction and Figuration\n",
    "\n",
    "- Functionality and Decoration\n",
    "\n",
    "- Density and Lightness\n",
    "\n",
    "- Multidimensional and Unidimensional\n",
    "\n",
    "- Originality and Familiarity\n",
    "\n",
    "- Novelty and Redundancy\n",
    "\n",
    "\n",
    "[See more here](https://ryanwingate.com/visualization/guidelines/visualization-wheel/)\n"
   ]
  },
  {
   "cell_type": "markdown",
   "metadata": {},
   "source": [
    "You will be picking one pair and creating a graph that over stimulates one of the two.\n",
    "\n",
    "When you have finished, swap your graph with a partner - can you guess which element they were trying to stress?"
   ]
  },
  {
   "cell_type": "markdown",
   "metadata": {},
   "source": [
    "Choose the data you would like to work on for this exercise. This can be your own data or something from the data folder. **Remember you will share this with another participant so pick non-sensitive data**"
   ]
  },
  {
   "cell_type": "code",
   "execution_count": null,
   "metadata": {},
   "outputs": [],
   "source": [
    "import glob\n",
    "glob.glob('../data/*')"
   ]
  },
  {
   "cell_type": "markdown",
   "metadata": {},
   "source": [
    "**Step 1:** Choose one pair from the Alberto Cairo Visualisation wheel. Create a chart that turns one of the aspects up to the max. \n",
    "\n",
    "Good options: Density & Lightness, Novelty & Redundancy, Originality & Familiarity, Decoration & Functionality"
   ]
  },
  {
   "cell_type": "code",
   "execution_count": null,
   "metadata": {},
   "outputs": [],
   "source": []
  },
  {
   "cell_type": "markdown",
   "metadata": {},
   "source": [
    "**Step 2:** Now reverse your attempt and stress the other end of the spectrum."
   ]
  },
  {
   "cell_type": "code",
   "execution_count": null,
   "metadata": {},
   "outputs": [],
   "source": []
  }
 ],
 "metadata": {
  "kernelspec": {
   "display_name": "Python 3",
   "language": "python",
   "name": "python3"
  },
  "language_info": {
   "codemirror_mode": {
    "name": "ipython",
    "version": 3
   },
   "file_extension": ".py",
   "mimetype": "text/x-python",
   "name": "python",
   "nbconvert_exporter": "python",
   "pygments_lexer": "ipython3",
   "version": "3.8.5"
  }
 },
 "nbformat": 4,
 "nbformat_minor": 4
}
