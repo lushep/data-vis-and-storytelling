{
 "cells": [
  {
   "cell_type": "markdown",
   "metadata": {},
   "source": [
    "<img src=../images/gdd-logo.png align=right width=300px>\n",
    "\n",
    "# Purpose: Persuade the audience\n",
    "\n",
    "- Start with the conclusion in mind:\n",
    "    - What is the one key message you want your audience to take from the chart?\n",
    "    - What action do you want them to take?\n",
    "- Use supporting points\n",
    "    - Ideally three (Max five)\n",
    "    - These should be the second/third point of the chart people see\n",
    "    - If you can have it as the last thing people see that can be powerful\n",
    "- Use an active title\n",
    "    - Use key words: 'need to', 'must' = why. 'can', 'could' = how."
   ]
  },
  {
   "cell_type": "markdown",
   "metadata": {},
   "source": [
    "Choose the data you would like to work on for this exercise. This can be your own data or something from the data folder."
   ]
  },
  {
   "cell_type": "code",
   "execution_count": null,
   "metadata": {},
   "outputs": [],
   "source": [
    "import glob\n",
    "glob.glob('../data/*')"
   ]
  },
  {
   "cell_type": "markdown",
   "metadata": {},
   "source": [
    "**Step 1:** Use any visualization and modify its scaffolding elements to ensure the viewers take a positive message from your design. Think about what action your audience could take and work that into the title."
   ]
  },
  {
   "cell_type": "code",
   "execution_count": null,
   "metadata": {},
   "outputs": [],
   "source": []
  },
  {
   "cell_type": "markdown",
   "metadata": {},
   "source": [
    "**Step 2:** Without modifying the existing graph, change the scaffolding to convey a negative message. Does the action from your audience need to change?"
   ]
  },
  {
   "cell_type": "code",
   "execution_count": null,
   "metadata": {},
   "outputs": [],
   "source": []
  }
 ],
 "metadata": {
  "kernelspec": {
   "display_name": "Python 3 (ipykernel)",
   "language": "python",
   "name": "python3"
  },
  "language_info": {
   "codemirror_mode": {
    "name": "ipython",
    "version": 3
   },
   "file_extension": ".py",
   "mimetype": "text/x-python",
   "name": "python",
   "nbconvert_exporter": "python",
   "pygments_lexer": "ipython3",
   "version": "3.9.7"
  }
 },
 "nbformat": 4,
 "nbformat_minor": 4
}
