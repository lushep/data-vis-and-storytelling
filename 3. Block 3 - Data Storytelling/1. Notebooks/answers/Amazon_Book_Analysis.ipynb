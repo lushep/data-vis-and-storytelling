{
 "cells": [
  {
   "cell_type": "markdown",
   "metadata": {},
   "source": [
    "## Potential Solution for the Amazon Best-Sellers\n",
    "\n",
    "This solution \n",
    "- uses bar plots to compare the fiction to non-fiction books.\n",
    "- adds the amazon logo to the chart\n",
    "- uses the amazon orange and black to compare fiction/non-fiction\n",
    "- uses the amazon blue for the text\n",
    "\n",
    "Bezos never asked for the comparison between fiction/non-fiction, but maybe he didn't know we had that level of detail? It doesn't detract from the overall message since we're using a stacked bar chart to show the total level.\n",
    "\n",
    "Run the cell below to see the chart."
   ]
  },
  {
   "cell_type": "code",
   "execution_count": null,
   "metadata": {},
   "outputs": [],
   "source": [
    "import pandas as pd\n",
    "import matplotlib.pyplot as plt\n",
    "from matplotlib.ticker import StrMethodFormatter\n",
    "\n",
    "## Amazon colors:\n",
    "\n",
    "c1, c2, c3 = ['#000000', '#ff9900', '#146EB4']\n",
    "limit = '30,000'\n",
    "\n",
    "books = pd.read_csv('../data/exercises/amazon_books.csv')\n",
    "\n",
    "\n",
    "fig, ax = plt.subplots(figsize=(12,7))\n",
    "\n",
    "books.plot(x='Year', y=['Total Reviews Fiction', 'Total Reviews Non-Fiction'], \n",
    "           kind='bar', stacked=True,\n",
    "           xlabel='', ylabel='Reviews', width=0.8, color=[c1,c2], rot=0, edgecolor = \"black\",\n",
    "           ax=ax)\n",
    "\n",
    "#### Add story telling elements ####\n",
    "\n",
    "# Make y-axis easier to read\n",
    "ax.yaxis.set_major_formatter(StrMethodFormatter('{x:,.0f}'))\n",
    "\n",
    "# Grab the years where books had more than 50,000 reviews and get number of books\n",
    "# better_sale_years = books_plotter['better_sales'].sum(axis=1).reset_index(drop=True)\n",
    "\n",
    "# Add text to show which years where books went above the 50,000 review mark\n",
    "for ind,num_books in enumerate(books['Num Books over 30,000 Reviews']):\n",
    "    if num_books >0:\n",
    "        text = f'* {num_books}'\n",
    "        color = c3\n",
    "        ax.text(\n",
    "            ind , -50_000, text, \n",
    "            color=color, weight='bold',\n",
    "            ha='center', va='center'\n",
    "        )\n",
    "\n",
    "# Explain the starred numbers\n",
    "ax.text(\n",
    "    11, 0, f'* Number of books that received \\nover {limit} reviews that year',\n",
    "    color=c3, weight='bold'\n",
    ")\n",
    "\n",
    "# Add the amazon logo\n",
    "im = plt.imread('../images/amazon.png')\n",
    "newax = fig.add_axes([0.75,0.63,0.4,0.4], anchor='NE', zorder=1)\n",
    "newax.imshow(im)\n",
    "newax.axis('off')\n",
    "\n",
    "\n",
    "# Add title\n",
    "ax.set_title('Total year on year reviews for the 50 Best selling books');"
   ]
  }
 ],
 "metadata": {
  "kernelspec": {
   "display_name": "Python 3 (ipykernel)",
   "language": "python",
   "name": "python3"
  },
  "language_info": {
   "codemirror_mode": {
    "name": "ipython",
    "version": 3
   },
   "file_extension": ".py",
   "mimetype": "text/x-python",
   "name": "python",
   "nbconvert_exporter": "python",
   "pygments_lexer": "ipython3",
   "version": "3.9.7"
  }
 },
 "nbformat": 4,
 "nbformat_minor": 4
}
