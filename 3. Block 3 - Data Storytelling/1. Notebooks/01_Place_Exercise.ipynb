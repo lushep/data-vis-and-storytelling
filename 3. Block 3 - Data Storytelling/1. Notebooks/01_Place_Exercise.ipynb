{
 "cells": [
  {
   "cell_type": "markdown",
   "id": "771183a3",
   "metadata": {},
   "source": [
    "<img src=images/gdd-logo.png align=right width=300px>\n",
    "\n",
    "          \n",
    "# <mark>Place: Making Charts in Python</mark>\n",
    "\n",
    "This exercise is all about picking the right chart for the message you are trying to say.\n",
    "\n",
    "So what goes into the place element in Storytelling with Data?\n",
    "- **Which chart?** Sometimes a line chart is suitable, sometimes a bar chart. \n",
    "- **Descriptors** Does your title reflect what the chart shows? understand what the y/x axis represent?\n",
    "- **Readability** Is the font/chart a good size? Does the rotation of the text make it easy to read?\n",
    "\n",
    "In this exercise you are going to use these points to create a clear and actionable chart."
   ]
  },
  {
   "cell_type": "code",
   "execution_count": null,
   "id": "e04a3727",
   "metadata": {},
   "outputs": [],
   "source": [
    "import pandas as pd\n",
    "import matplotlib.pyplot as plt"
   ]
  },
  {
   "cell_type": "markdown",
   "id": "7828f8e8",
   "metadata": {},
   "source": [
    "---\n",
    "\n",
    "## Jeff's Problem\n",
    "\n",
    "<img src=images/jeff.png width=200px align=left style=padding:20px>\n",
    "\n",
    "<font color=white>.</font>\n",
    "\n",
    "You can a phone call from Jeff Bezos. He wants to know if the amount of reviews have increased since 2009 on his 50 best selling books. He has mentioned that when a book gets 30,000 reviews or more it gets automatically promoted on certain websites and can increase sales."
   ]
  },
  {
   "cell_type": "markdown",
   "id": "47cd40f6",
   "metadata": {},
   "source": [
    "Produce a chart that shows this information.\n",
    "\n",
    "Choose **at least 3 different** alternatives (bar plot, line plot, pie chart eg.) to display this data and ask the following... \n",
    "- Which do you think is best?\n",
    "- Which do you think is worst?\n",
    "- Are any of the graphs misleading?\n",
    "- Which will Jeff like most? \n",
    "\n",
    "Once you have chosen the best type of chart, start customizing the chart to make it clear what it is you are showing.\n",
    "\n",
    "**Optional**: The aggregations have already been done for you. If you would like to perform some data analysis as well you can use the data `/data/exercises/amazon_books_raw/` to aggregate the data yourself."
   ]
  },
  {
   "cell_type": "code",
   "execution_count": null,
   "id": "92a96815",
   "metadata": {},
   "outputs": [],
   "source": [
    "books = pd.read_csv('data/exercises/amazon_books.csv')\n",
    "books"
   ]
  },
  {
   "cell_type": "code",
   "execution_count": null,
   "id": "fbdd9da4",
   "metadata": {},
   "outputs": [],
   "source": [
    "# chart 1\n",
    "fig, ax = plt.subplots()\n",
    "\n"
   ]
  },
  {
   "cell_type": "code",
   "execution_count": null,
   "id": "7d7ca33c",
   "metadata": {},
   "outputs": [],
   "source": [
    "# chart 2\n",
    "fig, ax = plt.subplots()\n",
    "\n"
   ]
  },
  {
   "cell_type": "code",
   "execution_count": null,
   "id": "d3f380cf",
   "metadata": {},
   "outputs": [],
   "source": [
    "# chart 3\n",
    "fig, ax = plt.subplots()\n",
    "\n"
   ]
  },
  {
   "cell_type": "markdown",
   "id": "c31c8f5f",
   "metadata": {},
   "source": [
    "***Below is an example using the bikes data***"
   ]
  },
  {
   "cell_type": "code",
   "execution_count": null,
   "id": "062e6e3d",
   "metadata": {},
   "outputs": [],
   "source": [
    "bikes = pd.read_csv('data/plots/bikes-by-month.csv', index_col='Month')\n",
    "bikes"
   ]
  },
  {
   "cell_type": "markdown",
   "id": "3cdf0be3",
   "metadata": {},
   "source": [
    "The bikes data shows how many bike rentals there were throughout the year for a bike rental company.\n",
    "\n",
    "The following has been added to the chart:\n",
    "- the `kind=` parameter creates a bar plot\n",
    "- the figure size has been set to be larger than default \n",
    "- labels are added to show what the y-axis means\n",
    "- the xticks have been rotated \n",
    "- the xlabel has been omitted since the ticks make it obvious"
   ]
  },
  {
   "cell_type": "code",
   "execution_count": null,
   "id": "b5ff2c11",
   "metadata": {},
   "outputs": [],
   "source": [
    "fig, ax = plt.subplots()\n",
    "\n",
    "bikes.plot(\n",
    "    kind='bar', \n",
    "    width=0.8, \n",
    "    figsize=(12,5), \n",
    "    rot=0,\n",
    "    xlabel='',\n",
    "    ylabel='Number of Bike Rentals',\n",
    "    title='Total Yearly Bike Rentals',\n",
    "    ax=ax\n",
    ")"
   ]
  },
  {
   "cell_type": "markdown",
   "id": "57407cbf",
   "metadata": {},
   "source": [
    "**Finished? Here are some extra elements you can add:**\n",
    "\n",
    "If you have finished the above, choose your favourite chart and add some storytelling elements:"
   ]
  },
  {
   "cell_type": "markdown",
   "id": "9655e0d4",
   "metadata": {},
   "source": [
    "- **People:** What extra things are on your chart to aid the story you want to tell?\n",
    "    - Use colouring or v/h lines to emphasize \n",
    "    - Add text around the chart to draw in the reader \n",
    "\n",
    "***For example*** \n",
    "\n",
    "We can add information to show where the summer months are by using `ax.text()`. This allows us to add text to areas on the figure using values for x & y. \n",
    "\n",
    "If we loop over the `enumerate()` of a column, we loop through the `index` and the column `value`, exactly what we want in order to add text to a figure!"
   ]
  },
  {
   "cell_type": "code",
   "execution_count": null,
   "id": "09ffd475",
   "metadata": {},
   "outputs": [],
   "source": [
    "ax = (\n",
    "    bikes\n",
    "    .plot(kind='bar', \n",
    "          width=0.8, \n",
    "          figsize=(12,5), \n",
    "          rot=0,\n",
    "          xlabel='',\n",
    "          ylabel='Number of Bike Rentals',\n",
    "          title='Total Yearly Bike Rentals',)\n",
    ")\n",
    "\n",
    "\n",
    "for ind, val in enumerate(bikes['summer_months']):\n",
    "    if val: # only add text to bars which are summer months\n",
    "        ax.text(ind, val*-23000, '*', size=12, weight='bold', color='darkorange')\n",
    "        \n",
    "# add text to explain *s\n",
    "ax.text(len(bikes), bikes.max().max()/2, '* Summer Months', weight='bold', color='darkorange')"
   ]
  },
  {
   "cell_type": "markdown",
   "id": "6381884b",
   "metadata": {},
   "source": [
    "- **Purpose:** What thoughts/emotions does your chart invoke in the reader?\n",
    "    - Change the colour to make the chart positive/negative\n",
    "    - Add a compelling title that signifies the reader should take action eg:\n",
    "        - We should change our company strategy to prioritise customer satisfaction\n",
    "        - We can improve how our management work to increase colleague engagement\n",
    "        \n",
    "***For example*** \n",
    "\n",
    "With our bikes data we could emphasize the small figures in the first two months:"
   ]
  },
  {
   "cell_type": "code",
   "execution_count": null,
   "id": "e0eea276",
   "metadata": {},
   "outputs": [],
   "source": [
    "ax = (\n",
    "    bikes\n",
    "    .plot(kind='bar', \n",
    "          width=0.8, \n",
    "          figsize=(12,5), \n",
    "          rot=0,\n",
    "          xlabel='',\n",
    "          ylabel='Number of Bike Rentals',\n",
    "          color=['grey','lightgrey'])\n",
    ")\n",
    "\n",
    "\n",
    "for month in [0,1]:\n",
    "    ax.text(month, -23000, '*', size=14, weight='bold', color='red')\n",
    "        \n",
    "# add title to explain *s\n",
    "ax.set_title(\"Number of bikes in early months* still needs improvement\", \n",
    "             weight='bold', color='red', size=14)"
   ]
  },
  {
   "cell_type": "markdown",
   "id": "4481ad2f",
   "metadata": {},
   "source": [
    "Note how the eye is immediately drawn to the red colour, red for danger. Everything else in the chart is minimised through greyscale."
   ]
  },
  {
   "cell_type": "markdown",
   "id": "ede6b40e",
   "metadata": {},
   "source": [
    "***A Potential Solution to Jeff's problem*** can be found in [this notebook](answers/Amazon_Book_Analysis.ipynb)"
   ]
  },
  {
   "cell_type": "markdown",
   "id": "9982f499",
   "metadata": {},
   "source": [
    "---\n",
    "<img src=images/conclusion.png align=right>\n",
    "\n",
    "# Conclusion\n",
    "\n",
    "This example has highlighted the importance on not only choosing the right *type* of chart but also making sure the chart is clear and readabel.\n",
    "\n",
    "It is important to be comfortable with the different chart types available first before starting to use more complex solutions for chart types. This means we can start adding more story telling elements (People, Plot and Purpose) to really control and aid the story that's being told. Once we have confidence in that we can start to look at more complicated chart types.\n",
    "\n",
    "For a more in-depth guide to choosing the correct chart [here](../ChartGuide.pdf) is a breakdown of over 80 different chart types.\n",
    "\n",
    "## Next Steps\n",
    "\n",
    "We are going to explore:\n",
    "- Who are the **P: People** in our story? What characters drive our data story?"
   ]
  }
 ],
 "metadata": {
  "kernelspec": {
   "display_name": "Python 3 (ipykernel)",
   "language": "python",
   "name": "python3"
  },
  "language_info": {
   "codemirror_mode": {
    "name": "ipython",
    "version": 3
   },
   "file_extension": ".py",
   "mimetype": "text/x-python",
   "name": "python",
   "nbconvert_exporter": "python",
   "pygments_lexer": "ipython3",
   "version": "3.9.7"
  }
 },
 "nbformat": 4,
 "nbformat_minor": 5
}
