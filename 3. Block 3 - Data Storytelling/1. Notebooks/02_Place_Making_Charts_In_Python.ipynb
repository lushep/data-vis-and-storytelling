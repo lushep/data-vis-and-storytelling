{
 "cells": [
  {
   "cell_type": "markdown",
   "metadata": {},
   "source": [
    "<img src=images/gdd-logo.png align=right width=300px>\n",
    "\n",
    "          \n",
    "# Place: Making Charts in Python\n",
    "\n",
    "For this notebook we are going to be using matplotlib for examples but feel free to pick another library as long as you can display the techniques discussed.\n",
    "\n",
    "In particular we will be covering:\n",
    "\n",
    "- [Responsibility as Storytellers](#responsibility)\n",
    "- [Choosing the right graph](#choosing)\n",
    "    - [<mark>Ex. How does chart type affect the reader?</mark>](#ex1)\n",
    "- [A note on... confidence intervalse](#note-ci)\n",
    "- [A note on.. boxplots](#note-box)\n",
    "- [A note on... confidence intervalse](#note-pie)\n",
    "- [<mark>Exercise: Case studies</mark>](#ex-case)\n",
    "- [Time Series graphs](#ts)\n",
    "- [<mark>Exercise: Choosing the right chart type</mark>](#ex-choosing)"
   ]
  },
  {
   "cell_type": "markdown",
   "metadata": {},
   "source": [
    "<a id='responsibility'></a>\n",
    "\n",
    "## Responsibility as Data Storytellers\n",
    "\n",
    "<img src=images/data-stories.png align=center width=300px>\n",
    "\n",
    "As storytellers of data, we actually share a lot in common with the likes of Stephen King, Margaret Atwood or Dr. Seuss, and therefore need to understand the underlying elements needed to tell any story.\n",
    "\n",
    "There are considered to be 3 Ps of Storytelling that drive a plot: Place, People, and Purpose. We are going to match up to this in our own data storytelling\n",
    "\n",
    "- Place\n",
    "- People\n",
    "- Purpose\n",
    "\n",
    "However, unlike many fiction writers, we are portraying absolute facts which are shown through the insights we gain from our data analysis. These facts are what will lead people to make conclusions and, in a lot of cases, future business decisions. \n",
    "\n",
    "Our role as the data storyteller is to **bridge the gap** between clinical and analytical data, to purpose-driven, interesting and thought-provoking stories."
   ]
  },
  {
   "cell_type": "code",
   "execution_count": null,
   "metadata": {},
   "outputs": [],
   "source": [
    "import pandas as pd\n",
    "import matplotlib.pyplot as plt\n",
    "import seaborn as sns"
   ]
  },
  {
   "cell_type": "markdown",
   "metadata": {},
   "source": [
    "<a id='choosing'></a>\n",
    "\n",
    "## Choosing the right graph\n",
    "\n",
    "---\n",
    "\n",
    "<font size=5 color='blue' align=center>P is for Place</font>\n",
    "\n",
    "**The 3 Ps of storytelling:** Place, People, Purpose.\n",
    "\n",
    "---\n",
    "\n",
    "The place of our story is where we are going to start. Besides where your chart will be consumed (PowerPoint, \n",
    "notebooks, Python, streamlit, dashboard), we need to determine what chart we are going to use and what structure will our charts need to have.\n",
    "\n",
    "If you have data you want to visualize, make sure you use the right charts. While your data might work with multiple chart types, it’s up to you to select the one that ensures your message is clear and accurate. Remember, **data is only valuable if you know how to visualize it and give context**.\n",
    "\n",
    "- Line \n",
    "- Bar \n",
    "- Stacked bar\n",
    "- Area \n",
    "- Pie \n",
    "- Scatter"
   ]
  },
  {
   "cell_type": "markdown",
   "metadata": {},
   "source": [
    "## <mark>Exercise: Choose a different graph style.</mark>\n",
    "\n",
    "For each chart, try a different type of chart. \n",
    "Why were the specific charts chosen for these examples?"
   ]
  },
  {
   "cell_type": "code",
   "execution_count": null,
   "metadata": {},
   "outputs": [],
   "source": [
    "from plot_chars import *\n",
    "\n",
    "plot_charts(fifa='barh',\n",
    "              cheese='line', \n",
    "              lego='area', \n",
    "              marvel='pie', \n",
    "              cars='scatter', \n",
    "              books='bar')"
   ]
  },
  {
   "cell_type": "markdown",
   "metadata": {},
   "source": [
    "**Note**: If the above code does not work due to import issues, go to the file `plot_chars.py` and copy/paste the function `plot_charts` into the the cell above, above the function call."
   ]
  },
  {
   "cell_type": "markdown",
   "metadata": {},
   "source": [
    "### In what situation are the following charts used?\n",
    "Bar charts"
   ]
  },
  {
   "cell_type": "raw",
   "metadata": {},
   "source": [
    "Answer: "
   ]
  },
  {
   "cell_type": "markdown",
   "metadata": {},
   "source": [
    "Line Charts"
   ]
  },
  {
   "cell_type": "raw",
   "metadata": {},
   "source": [
    "Answer: "
   ]
  },
  {
   "cell_type": "markdown",
   "metadata": {},
   "source": [
    "Area Charts"
   ]
  },
  {
   "cell_type": "raw",
   "metadata": {},
   "source": [
    "Answer: "
   ]
  },
  {
   "cell_type": "markdown",
   "metadata": {},
   "source": [
    "Pie Charts"
   ]
  },
  {
   "cell_type": "raw",
   "metadata": {},
   "source": [
    "Answer: "
   ]
  },
  {
   "cell_type": "markdown",
   "metadata": {},
   "source": [
    "Scatter Charts"
   ]
  },
  {
   "cell_type": "raw",
   "metadata": {},
   "source": [
    "Answer: "
   ]
  },
  {
   "cell_type": "markdown",
   "metadata": {},
   "source": [
    "Multiple Bar Charts (stacked or side-by-side)"
   ]
  },
  {
   "cell_type": "raw",
   "metadata": {},
   "source": [
    "Answer: "
   ]
  },
  {
   "cell_type": "markdown",
   "metadata": {},
   "source": [
    "Picking the correct chart is a really important step in the art of data storytelling. The wrong choice can leave the reader uncomfortable, be misleading or be impossible to decipher.\n",
    "\n",
    "We have explored the 6 main charts, but there are many more out there! Check out [this PDF](../ChartGuide.pdf) to see more examples."
   ]
  },
  {
   "cell_type": "markdown",
   "metadata": {},
   "source": [
    "<a id='note-ci'></a>\n",
    "\n",
    "---\n",
    "## A note on...\n",
    "\n",
    "### Bar charts with error labels\n",
    "\n",
    "Seaborn can be really useful if we want to do some kind of aggregation (sum, mean etc.) within our plot. \n",
    "\n",
    "Seaborn's error bars will also give a general idea of how precise a measurement is:"
   ]
  },
  {
   "cell_type": "code",
   "execution_count": null,
   "metadata": {},
   "outputs": [],
   "source": [
    "import seaborn as sns"
   ]
  },
  {
   "cell_type": "code",
   "execution_count": null,
   "metadata": {},
   "outputs": [],
   "source": [
    "import numpy as np\n",
    "marvel = pd.read_csv('data/marvel.csv')\n",
    "marvel.head()"
   ]
  },
  {
   "cell_type": "code",
   "execution_count": null,
   "metadata": {},
   "outputs": [],
   "source": [
    "sns.barplot(data=marvel, x='Alignment', y='Height', capsize=.2)"
   ]
  },
  {
   "cell_type": "markdown",
   "metadata": {},
   "source": [
    "The variance in our `neutral` category seems quite high."
   ]
  },
  {
   "cell_type": "code",
   "execution_count": null,
   "metadata": {},
   "outputs": [],
   "source": [
    "marvel.groupby('Alignment')['Height'].describe()"
   ]
  },
  {
   "cell_type": "markdown",
   "metadata": {},
   "source": [
    "Looks like we have a small number of `neutral` heroes, and have some outliers in the upper quartile:"
   ]
  },
  {
   "cell_type": "code",
   "execution_count": null,
   "metadata": {},
   "outputs": [],
   "source": [
    "(\n",
    "    marvel\n",
    "    .loc[marvel['Alignment']=='neutral', ['Name', 'Height']]\n",
    "    .sort_values(\"Height\", ascending=False)\n",
    ")"
   ]
  },
  {
   "cell_type": "markdown",
   "metadata": {},
   "source": [
    "Galactus is obviously making our neutral heroes look like they are considerably taller...\n",
    "\n",
    "<img src=images/galactus.jpeg width=200px>"
   ]
  },
  {
   "cell_type": "markdown",
   "metadata": {},
   "source": [
    "The confidence interval was a clear demonstration of how low observations can cause misleading representation of aggregate values, however for the non-technical audience they are harder to decipher."
   ]
  },
  {
   "cell_type": "markdown",
   "metadata": {},
   "source": [
    "---\n",
    "<a id='note-box'></a>\n",
    "\n",
    "## A note on...\n",
    "\n",
    "### Boxplots\n",
    "\n",
    "The same idea can be said for boxplots. The below chart tells us a lot in terms of the attack score for each pokemon type. We understand the average attack score and also the consistency within that group, however boxplots are not as common as simpler graph choices so should be used when working with audiences who know the chart and are comfortable with interpreting the data."
   ]
  },
  {
   "cell_type": "code",
   "execution_count": null,
   "metadata": {},
   "outputs": [],
   "source": [
    "pokemon = pd.read_csv('data/pokemon.csv')\n",
    "\n",
    "fig, ax = plt.subplots(figsize=(12,7))\n",
    "\n",
    "sns.boxplot(data=pokemon, y='attack', x='type', ax=ax)\n",
    "plt.show()"
   ]
  },
  {
   "cell_type": "markdown",
   "metadata": {},
   "source": [
    "Often we want to ensure that is the least amount of interpretation needed as possible in order to allow everyone to digest the key information together.\n",
    "\n",
    "The **whole** audience should be able to understand the graph. If only 80% can, the 20% that can't will be left feeling left out.\n",
    "\n",
    "Use boxplots and confidence intervals with...\n",
    "- Technical audiences\n",
    "- Your own analysis to get to the root cause\n",
    "- Places where consumers can drill down"
   ]
  },
  {
   "cell_type": "markdown",
   "metadata": {},
   "source": [
    "---\n",
    "<a id='note-pie'></a>\n",
    "\n",
    "## A note on...\n",
    "\n",
    "### Pie Charts\n",
    "\n",
    "Pie charts are one of the most overused graphs in data storytelling. They provide an immediate visual that people are familiar with. However in most cases they are not the best way to present data. \n",
    "\n",
    "They often distort the information - this makes it more difficult for decision-makers to understand the messages they contain.\n",
    "\n",
    "If you’re interested in making better presentations, reports and dashboards, one simple way is to eliminate pie charts from your repertoire."
   ]
  },
  {
   "cell_type": "markdown",
   "metadata": {},
   "source": [
    "**Too many categories**\n",
    "\n",
    "The hardest thing about pie charts is calculating the angles. We're not naturally good at it, or at least not all of us."
   ]
  },
  {
   "cell_type": "code",
   "execution_count": null,
   "metadata": {},
   "outputs": [],
   "source": [
    "marvel['EyeColor'].value_counts().plot(kind='pie')"
   ]
  },
  {
   "cell_type": "markdown",
   "metadata": {},
   "source": [
    "**Omitting categories**\n",
    "\n",
    "Pie charts should show percentages and should always add up to 100%. Raw values in a pie chart are confusing and percentages that don't describe the proportion of the whole are misleading."
   ]
  },
  {
   "cell_type": "code",
   "execution_count": null,
   "metadata": {},
   "outputs": [],
   "source": [
    "election = pd.read_csv('data/plots/election_alaska.csv')\n",
    "\n",
    "election.plot(kind='pie', \n",
    "              y='total_votes', \n",
    "              labels= election['percent_label'], \n",
    "              legend=False, \n",
    "              ylabel='', title = 'Results of the 2020 US Election in Alaska')\n",
    "plt.show()"
   ]
  },
  {
   "cell_type": "markdown",
   "metadata": {},
   "source": [
    "Classically this is a technique used in media tactics to make certain categories appear dominant, as well as misrepresent certain data. For example:"
   ]
  },
  {
   "cell_type": "markdown",
   "metadata": {},
   "source": [
    "<img src=images/covid.png width=300px align=left>"
   ]
  },
  {
   "cell_type": "markdown",
   "metadata": {},
   "source": [
    "**In time series data**\n",
    "\n",
    "Often the aim is to show the changes in categories over time... however it doesn't give us enough information."
   ]
  },
  {
   "cell_type": "code",
   "execution_count": null,
   "metadata": {},
   "outputs": [],
   "source": [
    "programming = (\n",
    "    pd.read_csv('data/programming-trends.csv', index_col='Month', parse_dates=['Month'])\n",
    "    .loc['2016':'2020']\n",
    "    .resample('Y').mean()\n",
    ")\n",
    "\n",
    "fig, ax = plt.subplots(1,programming.shape[0], figsize=(12,6))\n",
    "for i, p in enumerate(programming.index):\n",
    "    programming.loc[p][::-1].plot(kind='pie', ax=ax[i], ylabel=p.year)\n",
    "plt.tight_layout()"
   ]
  },
  {
   "cell_type": "markdown",
   "metadata": {},
   "source": [
    "Where with a simple line plot we'd be able to see exactly where one group surpassed another:"
   ]
  },
  {
   "cell_type": "code",
   "execution_count": null,
   "metadata": {},
   "outputs": [],
   "source": [
    "programming.plot(title='Google Trends for Different Programming Languages');"
   ]
  },
  {
   "cell_type": "markdown",
   "metadata": {},
   "source": [
    "**Fear the 3D Pie Chart:**\n",
    "\n",
    "This is not (easily) managed in Python, but good to note for other visualisation tools. Notice how below in the 3D image Item C looks bigger than Item A, when in actual fact it is less than half:\n",
    "\n",
    "<img src=images/3d-pie.png width=500px align=center>\n",
    "\n",
    "The pie chart is one of the most used and often most hated chart types of all time. However it does have its place!\n",
    "\n",
    "**Best practices for creating pie charts:**\n",
    "\n",
    " - Make sure your sectors add up to the whole (100%) - Sounds obvious, but this is a common mistake\n",
    " \n",
    " - Compare just a few (2-5) categories to get your point across and if the slices are roughly the same size, consider a bar or column chart\n",
    "\n",
    " - Include all data, with no overlapping sectors"
   ]
  },
  {
   "cell_type": "markdown",
   "metadata": {},
   "source": [
    "---\n",
    "<a id='ex-case'></a>\n",
    "\n",
    "## <mark> Exercise: Case Studies</mark>\n",
    "\n",
    "Answer/complete the following..."
   ]
  },
  {
   "cell_type": "markdown",
   "metadata": {},
   "source": [
    "**You should use confidence intervals when...**"
   ]
  },
  {
   "cell_type": "raw",
   "metadata": {},
   "source": [
    "Answer: "
   ]
  },
  {
   "cell_type": "markdown",
   "metadata": {},
   "source": [
    "**A good example of when to use a pie chart would be...**"
   ]
  },
  {
   "cell_type": "raw",
   "metadata": {},
   "source": [
    "Answer: "
   ]
  },
  {
   "cell_type": "markdown",
   "metadata": {},
   "source": [
    "**Think about the following use cases. What type of chart would you use and why?**"
   ]
  },
  {
   "cell_type": "markdown",
   "metadata": {},
   "source": [
    "1. Training data where the total amount of training has increased since the introduction of online learning"
   ]
  },
  {
   "cell_type": "raw",
   "metadata": {},
   "source": [
    "Answer:"
   ]
  },
  {
   "cell_type": "markdown",
   "metadata": {},
   "source": [
    "2. Show the status of tasks completed in JIRA (Not started, On-going, Completed)"
   ]
  },
  {
   "cell_type": "raw",
   "metadata": {},
   "source": [
    "Answer: "
   ]
  },
  {
   "cell_type": "markdown",
   "metadata": {},
   "source": [
    "3. Data on this year's sales compared to the budget month-on-month. The CEO would like to take these values and use some of them in his Quarterly report."
   ]
  },
  {
   "cell_type": "raw",
   "metadata": {},
   "source": [
    "Answer:"
   ]
  },
  {
   "cell_type": "markdown",
   "metadata": {},
   "source": [
    "---\n",
    "<a id='ts'></a>\n",
    "\n",
    "## Let's get Serious with Time Series\n",
    "\n",
    "Time series are a great way to show the movement of data over time. The most common time series chart is a line chart as it provokes the thought of movement (from each point to the next) however it's not uncommon to see bar-charts as long as the data is grouped in a robust way - monthly data for one year for example.\n",
    "\n",
    "The most common mistake with time series data is not converting the date variable to be a `pd.datetime` datatype. This can cause issues within our axes. Take a look at the chart below, what issues can you see?"
   ]
  },
  {
   "cell_type": "code",
   "execution_count": null,
   "metadata": {},
   "outputs": [],
   "source": [
    "schiphol = pd.read_csv('data/schiphol-passengers.csv')"
   ]
  },
  {
   "cell_type": "code",
   "execution_count": null,
   "metadata": {},
   "outputs": [],
   "source": [
    "# fig\n",
    "fig = plt.figure(figsize=(10,5))\n",
    "\n",
    "# axes\n",
    "axes = fig.add_axes([0,0,1,1])\n",
    "\n",
    "schiphol.plot(x='date', y='total_passengers', ax=axes, title='Passenger Volume at Schiphol Airport');"
   ]
  },
  {
   "cell_type": "markdown",
   "metadata": {},
   "source": [
    "If we plot this using seaborn, this issue is seen more clearly:"
   ]
  },
  {
   "cell_type": "code",
   "execution_count": null,
   "metadata": {},
   "outputs": [],
   "source": [
    "# fig\n",
    "fig = plt.figure(figsize=(10,5))\n",
    "\n",
    "# axes\n",
    "axes = fig.add_axes([0,0,1,1])\n",
    "\n",
    "(\n",
    "    sns.lineplot(data=schiphol, x='date', y='total_passengers')\n",
    "    .set(title='Passenger Volume at Schiphol Airport')\n",
    ");"
   ]
  },
  {
   "cell_type": "markdown",
   "metadata": {},
   "source": [
    "Seaborn is trying to show every single label on the x-axis since pandas currently treats this as a string. We need to convert this to a `pd.datetime` to improve this. Also, if we set this to our index, it will automatically be on our x-axis."
   ]
  },
  {
   "cell_type": "code",
   "execution_count": null,
   "metadata": {},
   "outputs": [],
   "source": [
    "schiphol_clean = pd.read_csv('data/schiphol-passengers.csv', \n",
    "                             parse_dates=['date'], \n",
    "                             index_col='date')"
   ]
  },
  {
   "cell_type": "code",
   "execution_count": null,
   "metadata": {},
   "outputs": [],
   "source": [
    "# fig\n",
    "fig = plt.figure(figsize=(10,5))\n",
    "fig.autofmt_xdate()\n",
    "\n",
    "# axes\n",
    "axes = fig.add_axes([0,0,1,1])\n",
    "\n",
    "(\n",
    "    schiphol_clean\n",
    "    .div(1000_000)\n",
    "    .plot(ax=axes, ylabel='Num Passengers (M)', \n",
    "          title='Passenger Volume at Schiphol Airport')\n",
    ");"
   ]
  },
  {
   "cell_type": "markdown",
   "metadata": {},
   "source": [
    "## How to compare different things over time\n",
    "\n",
    "Time series line charts are also great at comparing one year to the next. Let's look at bike rentals from a US rental company in the years 2011 and 2012:"
   ]
  },
  {
   "cell_type": "code",
   "execution_count": null,
   "metadata": {},
   "outputs": [],
   "source": [
    "bikes = pd.read_csv('data/plots/bikes-by-month.csv', index_col='Month')\n",
    "ax = (\n",
    "    bikes\n",
    "    .plot(title='Total Yearly Bike Rentals')\n",
    ")"
   ]
  },
  {
   "cell_type": "markdown",
   "metadata": {},
   "source": [
    "It might also be good to aggregate here on a monthly basis, say if we were looking if we hit each monthly target:"
   ]
  },
  {
   "cell_type": "code",
   "execution_count": null,
   "metadata": {},
   "outputs": [],
   "source": [
    "ax = (\n",
    "    bikes\n",
    "    .plot(kind='bar', title='Total Yearly Bike Rentals')\n",
    ")"
   ]
  },
  {
   "cell_type": "markdown",
   "metadata": {},
   "source": [
    "---\n",
    "<img src=images/conclusion.png align=right>\n",
    "\n",
    "# Conclusion\n",
    "\n",
    "We have looked at the main different types of chart one can use when plotting information. It is important to be extremely comfortable with these chart types first before we start using more complex solutions for chart types. This means we can start adding more story telling elements (People, Plot and Purpose) to really control and aid the story that's being told. Once we have confidence in that we can start to look at more complicated chart types.\n",
    "\n",
    "For a more in-depth guide to choosing the correct chart, there is a PDF in the `Extras/` folder with a breakdown of over 80 different chart types.\n",
    "\n",
    "## Next Steps\n",
    "\n",
    "We are going to explore:\n",
    "- Who are the **P: People** in our story? What characters drive our data story?"
   ]
  }
 ],
 "metadata": {
  "kernelspec": {
   "display_name": "Python 3 (ipykernel)",
   "language": "python",
   "name": "python3"
  },
  "language_info": {
   "codemirror_mode": {
    "name": "ipython",
    "version": 3
   },
   "file_extension": ".py",
   "mimetype": "text/x-python",
   "name": "python",
   "nbconvert_exporter": "python",
   "pygments_lexer": "ipython3",
   "version": "3.9.7"
  }
 },
 "nbformat": 4,
 "nbformat_minor": 4
}
