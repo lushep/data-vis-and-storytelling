{
 "cells": [
  {
   "cell_type": "markdown",
   "metadata": {},
   "source": [
    "<img src=images/gdd-logo.png align=right width=300px>\n",
    "\n",
    "# People: Adding Characters that Propel the Story\n",
    "\n",
    "When we talk about people in a novel, we're often talking about humans, but they could be anything. For example the house in The Shining, or the rose in Beauty and the Beast.\n",
    "\n",
    "---\n",
    "\n",
    "<font size=5 color='blue' align=center>P is for People</font>\n",
    "\n",
    "The 3 Ps of storytelling: Place, People, Purpose.\n",
    "\n",
    "---\n",
    "\n",
    "Who, then, are the characters in our data stories? Think about these as what exist around the graph... what is there to tell the story when we (the narrator) are not around to do it?\n",
    "\n",
    "Throughout this notebook we will focus on our characters.\n",
    "\n",
    "\n",
    "- [Units and Ranges](#units)\n",
    "- [Titles](#titles)\n",
    "    - [<mark>Exercise: Pick a title</mark>](#ex-title)\n",
    "- [Colours](#colours)\n",
    "    - [<mark>Exercise: Branding</mark>](#ex-branding)\n",
    "- [Draw the eye of the reader](#drawing)\n",
    "- [<mark>Exercise: Putting it all together</mark>](#ex-all)\n",
    "\n"
   ]
  },
  {
   "cell_type": "code",
   "execution_count": null,
   "metadata": {},
   "outputs": [],
   "source": [
    "import pandas as pd\n",
    "import matplotlib.pyplot as plt"
   ]
  },
  {
   "cell_type": "markdown",
   "metadata": {},
   "source": [
    "<a id='units'></a>\n",
    "\n",
    "----\n",
    "## Units and Ranges\n",
    "\n",
    "Although it may seem obvious, the limits for ranges can drastically change the story. For example if we look at the following data:"
   ]
  },
  {
   "cell_type": "code",
   "execution_count": null,
   "metadata": {},
   "outputs": [],
   "source": [
    "election_full = pd.read_csv('data/election_full.csv', index_col='candidate')\n",
    "election_full"
   ]
  },
  {
   "cell_type": "markdown",
   "metadata": {},
   "source": [
    "And say we want to zoom in on the race between Biden and Trump:"
   ]
  },
  {
   "cell_type": "code",
   "execution_count": null,
   "metadata": {},
   "outputs": [],
   "source": [
    "(\n",
    "    election_full\n",
    "    .head(2).div(1000)\n",
    "    .plot(kind='bar',\n",
    "          ylim=[72_000,83_000], rot=0,\n",
    "          title='Joe Biden wins by landslide \\nin 2020 US Election')\n",
    ")"
   ]
  },
  {
   "cell_type": "markdown",
   "metadata": {},
   "source": [
    "If we edit the y limit, does the title of the chart still make sense?"
   ]
  },
  {
   "cell_type": "code",
   "execution_count": null,
   "metadata": {},
   "outputs": [],
   "source": [
    "(\n",
    "    election_full\n",
    "    .head(2)\n",
    "    .div(1000)\n",
    "    .plot(kind='bar',\n",
    "          ylim=[0,90_000], rot=0, ylabel='Votes in 1000s',\n",
    "          title='Joe Biden wins by landslide \\nin 2020 US Election')\n",
    ");"
   ]
  },
  {
   "cell_type": "markdown",
   "metadata": {},
   "source": [
    "**<font color='blue'>Note:</font>** Titles may not be the first thing you notice about a chart but can have a great deal of impact when telling a story. We will revisit titles but it's a good point to observe that even though the above chart no longer misleads us in visuals, the wording can still overwrite our initial thoughts."
   ]
  },
  {
   "cell_type": "markdown",
   "metadata": {},
   "source": [
    "**Percentages vs actual figures**\n",
    "\n",
    "How about we use percentages instead? Percentages generally are a lot closer in numbers, and therefore make figures appear closer:"
   ]
  },
  {
   "cell_type": "code",
   "execution_count": null,
   "metadata": {},
   "outputs": [],
   "source": [
    "(\n",
    "    election_full\n",
    "    .div(election_full.sum()/100)\n",
    "    .head(2)\n",
    "    .plot(kind='bar',\n",
    "          rot=0, ylim=[0,100],\n",
    "          title='Couldn\\'t be closer in 2020 US Election')\n",
    ");"
   ]
  },
  {
   "cell_type": "markdown",
   "metadata": {},
   "source": [
    "Even now we can change the choice of graph. A **stack bar chart** is great for demonstrating the total of multiple categories. Great if we also want to know what percentage **didn't** vote Biden/Trump:"
   ]
  },
  {
   "cell_type": "code",
   "execution_count": null,
   "metadata": {},
   "outputs": [],
   "source": [
    "ax = (\n",
    "    election_full\n",
    "    .div(election_full.sum()/100)\n",
    "    .head(2).T.rename({'total_votes':''})\n",
    "    .plot(kind='barh',\n",
    "          rot=0, stacked=True, xticks=[0,50,100],\n",
    "          title='Couldn\\'t be closer in 2020 US Election')\n",
    ")\n",
    "ax.grid(axis='x')"
   ]
  },
  {
   "cell_type": "markdown",
   "metadata": {},
   "source": [
    "---\n",
    "\n",
    "<a id='titles'></a>\n",
    "\n",
    "## Titles\n",
    "\n",
    "Titles may be the first thing you want your audience to see. Let's load in the bikes data to demonstrate."
   ]
  },
  {
   "cell_type": "code",
   "execution_count": null,
   "metadata": {},
   "outputs": [],
   "source": [
    "bikes = pd.read_csv('data/plots/bikes-by-month.csv', index_col=['Month'])\n",
    "bikes.head()"
   ]
  },
  {
   "cell_type": "markdown",
   "metadata": {},
   "source": [
    "They can drastically change the message of the chart:"
   ]
  },
  {
   "cell_type": "code",
   "execution_count": null,
   "metadata": {},
   "outputs": [],
   "source": [
    "ax = (\n",
    "    bikes\n",
    "    .plot(figsize=(12,6), lw=2, color='orange')\n",
    ")\n",
    "ax.set_title('Bike sales increased significantly compared to last year!', \n",
    "             weight='bold', size=20, color='darkgreen')"
   ]
  },
  {
   "cell_type": "code",
   "execution_count": null,
   "metadata": {},
   "outputs": [],
   "source": [
    "ax = (\n",
    "    bikes\n",
    "    .plot(figsize=(12,6), lw=2, color='orange')\n",
    ")\n",
    "ax.set_title('Bike sales STILL affected by seasonal lows!', \n",
    "             weight='bold', size=20, color='#c00')"
   ]
  },
  {
   "cell_type": "markdown",
   "metadata": {},
   "source": [
    "**Note:** While a great tool, we have to care when coming up with our titles as they can drastically distort the key message of the data and use leading words that might not match up with what the data is actually displaying."
   ]
  },
  {
   "cell_type": "markdown",
   "metadata": {},
   "source": [
    "---\n",
    "\n",
    "<a id='ex-title'></a>\n",
    "\n",
    "## <mark>Exercise: Pick a suitable title</mark>\n",
    "\n",
    "Explore the `chickweight` data and understand what the following graph is telling you:"
   ]
  },
  {
   "cell_type": "code",
   "execution_count": null,
   "metadata": {},
   "outputs": [],
   "source": [
    "chickweight = pd.read_csv('data/exercises/chickweight.csv')"
   ]
  },
  {
   "cell_type": "code",
   "execution_count": null,
   "metadata": {},
   "outputs": [],
   "source": [
    "# Plot graph\n",
    "\n",
    "def plot_chickweight(df=chickweight, title='',color=None):\n",
    "    (\n",
    "        df\n",
    "        .groupby(['days','diet'])['weight'].mean()\n",
    "        .unstack()\n",
    "        .plot(title=title, color=color)\n",
    "    )\n",
    "plot_chickweight(title='')"
   ]
  },
  {
   "cell_type": "markdown",
   "metadata": {},
   "source": [
    "For the following graph, come up with three titles that are:\n",
    "\n",
    "- Neutral "
   ]
  },
  {
   "cell_type": "code",
   "execution_count": null,
   "metadata": {},
   "outputs": [],
   "source": [
    "plot_chickweight(title='')"
   ]
  },
  {
   "cell_type": "markdown",
   "metadata": {},
   "source": [
    "- Positive"
   ]
  },
  {
   "cell_type": "code",
   "execution_count": null,
   "metadata": {},
   "outputs": [],
   "source": [
    "plot_chickweight(title='')"
   ]
  },
  {
   "cell_type": "markdown",
   "metadata": {},
   "source": [
    "- Negative"
   ]
  },
  {
   "cell_type": "code",
   "execution_count": null,
   "metadata": {},
   "outputs": [],
   "source": [
    "plot_chickweight(title='')"
   ]
  },
  {
   "cell_type": "markdown",
   "metadata": {},
   "source": [
    "Finished? Now try changing the colours to emphasize your title."
   ]
  },
  {
   "cell_type": "code",
   "execution_count": null,
   "metadata": {},
   "outputs": [],
   "source": [
    "colors = ['r','g','r','g']\n",
    "\n",
    "plot_chickweight(title='', color=colors)"
   ]
  },
  {
   "cell_type": "markdown",
   "metadata": {},
   "source": [
    "---\n",
    "<a id='colours'></a>\n",
    "\n",
    "## Colours\n",
    "\n",
    "Colouring can aid in storytelling. Take the above example, calm green for a good message, emergency red for a negative message. \n",
    "\n",
    "### Text Colours\n",
    "\n",
    "Take care when changing colours of text! Text should:\n",
    "- Be easy to read\n",
    "- Not take all the attention from the graphic (otherwise, why have the graphic at all?)\n",
    "- Match the theme of the graph (formal, whimsical)\n",
    "\n",
    "### Default colours vs customised\n",
    "\n",
    "The default colours in matplotlib, altair and dashboard design tools like Tableau are often chosen as these are the best combination of colours for those with colorbindness.\n",
    "\n",
    "This doesn't mean you can't change them, just ensure you are not sacrificing readability for your own personal taste.\n",
    "\n",
    "Shading (light/dark) can be really helpful when picking colours and showing contrast:"
   ]
  },
  {
   "cell_type": "code",
   "execution_count": null,
   "metadata": {},
   "outputs": [],
   "source": [
    "programming = (\n",
    "    pd.read_csv('data/programming-trends.csv', index_col=[0], parse_dates=[0])\n",
    "    .loc[:, lambda df: df.columns[::-1]]\n",
    ")\n",
    "\n",
    "programming.plot(color=['lightblue','lightblue','lightblue', '#306998'], \n",
    "                 title='Python becomes most Googled Programming Language');"
   ]
  },
  {
   "cell_type": "markdown",
   "metadata": {},
   "source": [
    "<img src=images/python-logo.png align=right style='padding:20px'>\n",
    "\n",
    "### Branding\n",
    "\n",
    "Does your chart conform to brand? Above, the colour #306998 was chosen to match the Python colour use in its logo.\n",
    "\n",
    "\n",
    "\n",
    "There are many websites that can help with colours and branding:\n",
    "\n",
    "- [Simple hue picker](https://hslpicker.com/)\n",
    "- [Generate key colours from an image](https://imagecolorpicker.com/)\n",
    "- [Grab images with chosen colour palette](https://labs.tineye.com/)"
   ]
  },
  {
   "cell_type": "markdown",
   "metadata": {},
   "source": [
    "<a id='ex-branding'></a>\n",
    "\n",
    "## <mark>Exercise: Branding</mark>\n",
    "\n",
    "There are two parts to this exercse:\n",
    "\n",
    "1. Get the four main colours of your companies' logo \n",
    "2. Use these colours to find up to 5 suitable photos to use in a presentation"
   ]
  },
  {
   "cell_type": "raw",
   "metadata": {},
   "source": [
    "Paste the links of your photos here:\n"
   ]
  },
  {
   "cell_type": "markdown",
   "metadata": {},
   "source": [
    "**Bonus:** Change the above cell to markdown and include them in the cell.\n",
    "\n",
    "Eg. <font color=#306998>This blue is used in the Python</font>"
   ]
  },
  {
   "cell_type": "markdown",
   "metadata": {},
   "source": [
    "<a id='drawing'></a>\n",
    "\n",
    "---\n",
    "\n",
    "## Draw the eye of the reader\n",
    "\n",
    "There is a certain visual hierarchy when we view something, an image, out the window, a graphic. We can control that hierarchy and ensure our viewers attention goes to the right place.\n",
    "\n",
    "Some graphs, it's obvious where the eye will be drawn to:"
   ]
  },
  {
   "cell_type": "code",
   "execution_count": null,
   "metadata": {},
   "outputs": [],
   "source": [
    "schiphol = pd.read_csv('data/schiphol-passengers.csv', index_col='date', parse_dates=['date'])\n",
    "(\n",
    "    schiphol\n",
    "    .loc['2009':]\n",
    "    .plot()\n",
    ");"
   ]
  },
  {
   "cell_type": "markdown",
   "metadata": {},
   "source": [
    "But in some cases it might not be immediately obvious... "
   ]
  },
  {
   "cell_type": "code",
   "execution_count": null,
   "metadata": {},
   "outputs": [],
   "source": [
    "lego = pd.read_csv('data/lego.csv')['year'].value_counts().sort_index().loc[:'2020']\n",
    "ax = lego.plot(title='Number of sets produced by Lego')"
   ]
  },
  {
   "cell_type": "markdown",
   "metadata": {},
   "source": [
    "Let's add a focal point for when Jorgen became the CEO and started to shake things up:"
   ]
  },
  {
   "cell_type": "code",
   "execution_count": null,
   "metadata": {},
   "outputs": [],
   "source": [
    "from collections import namedtuple\n",
    "\n",
    "Focus = namedtuple('Key', ['year', 'info'])\n",
    "focus = Focus(2001, 'Jorgen Vig Knudstorp \\nbecomes CEO')"
   ]
  },
  {
   "cell_type": "markdown",
   "metadata": {},
   "source": [
    "Simply we could add a **vertical line** and **text**:"
   ]
  },
  {
   "cell_type": "code",
   "execution_count": null,
   "metadata": {},
   "outputs": [],
   "source": [
    "ax = lego.plot(title='Number of sets produced by Lego')\n",
    "\n",
    "ax.axvline(focus.year, color='k', ls='--', lw='1')\n",
    "ax.text(focus.year*1.001, 200, focus.info);"
   ]
  },
  {
   "cell_type": "markdown",
   "metadata": {},
   "source": [
    "Or add some **color**:"
   ]
  },
  {
   "cell_type": "code",
   "execution_count": null,
   "metadata": {},
   "outputs": [],
   "source": [
    "lego.loc[:focus.year].plot()\n",
    "lego.loc[focus.year:].plot(\n",
    "    title='Lego ramps up number of sets after \\nJorgen Vig Knudstorp joins as CEO'\n",
    ");"
   ]
  },
  {
   "cell_type": "markdown",
   "metadata": {},
   "source": [
    "With a simple addition of a vertical line or change in colour, the eye is now drawn to the key message of the story.\n",
    "\n",
    "Of course there are more elements than just **text** or **color** that we could add to a chart, but these are usually enough to get the point accross. We don't want to add too many characters in case we lose the audience!"
   ]
  },
  {
   "cell_type": "markdown",
   "metadata": {},
   "source": [
    "<a id='ex-all'></a>\n",
    "\n",
    "---\n",
    "\n",
    "## <mark>Assignment: Putting it all together</mark>\n",
    "\n",
    "<img src=images/friendzy.png align=right width=200px>\n",
    "\n",
    "It's Friday afternoon, and you receive the following email from your dear stakeholder:\n",
    "\n",
    "    Dear Data Storyteller,\n",
    "\n",
    "    I've just received last years' revenue for our all areas of the company. Looks like we have some good revenues! \n",
    "    Last year our average revenue was 10% lower so anything above that is great in my opinion! And what good news for our new companies: Josie Saws, Golden Kez Topic and Samuelifant Graveyard!\n",
    "    \n",
    "    Could you prepare a graph to let the big cheeses know our good news and also how we can improve for next year? \n",
    "\n",
    "    Thanks!\n",
    "\n",
    "    Love from your dear stakeholder\n",
    "    \n",
    "    InAFrendzy Inc.\n",
    "    \n"
   ]
  },
  {
   "cell_type": "markdown",
   "metadata": {},
   "source": [
    "Here is the data:"
   ]
  },
  {
   "cell_type": "code",
   "execution_count": null,
   "metadata": {},
   "outputs": [],
   "source": [
    "sales = pd.read_csv('data/exercises/sales-data.csv')"
   ]
  },
  {
   "cell_type": "markdown",
   "metadata": {},
   "source": [
    "The stakeholder has given it a go and here's the chart they have created. Let's make this a little bit better shall we?"
   ]
  },
  {
   "cell_type": "markdown",
   "metadata": {},
   "source": [
    "### <mark>Improve the chart!</mark>"
   ]
  },
  {
   "cell_type": "code",
   "execution_count": null,
   "metadata": {},
   "outputs": [],
   "source": [
    "sales.plot(x='Company', y='Sales', rot=0, figsize=(12,7), title='Sales')"
   ]
  },
  {
   "cell_type": "code",
   "execution_count": null,
   "metadata": {},
   "outputs": [],
   "source": []
  },
  {
   "cell_type": "markdown",
   "metadata": {},
   "source": [
    "**Struggling where to start?** Follow the following steps to improve the chart...\n",
    "\n",
    "1. Isn't a bar chart a better way to show discrete information??\n",
    "2. I prefer to read things horizontally\n",
    "3. Didn't your stakeholder say the average for last year is 10% lower than what we see here? What is that value?\n",
    "4. Wouldn't it be great if we could show which bars were greater than our benchmark?\n",
    "5. Oh dear stakeholder... nice try on the title... and where are your labels?\n",
    "6. Hmm this doesn't really fit in with our company logo... can we change that?"
   ]
  },
  {
   "cell_type": "markdown",
   "metadata": {},
   "source": [
    "**Answers**: Uncomment the following and run to see a *potential solution* in matplotlib:"
   ]
  },
  {
   "cell_type": "code",
   "execution_count": null,
   "metadata": {},
   "outputs": [],
   "source": [
    "# %load answers/putting-it-all-together.py"
   ]
  },
  {
   "cell_type": "markdown",
   "metadata": {},
   "source": [
    "---\n",
    "<img src=images/conclusion.png align=right>\n",
    "          \n",
    "## Conclusion\n",
    "\n",
    "With the People P, really we are consider how can the chart by itsself tell a story? What elements can I add to allow the chart to tell a story without the need for someone to explain what is happening?\n",
    "\n",
    "Key characters include:\n",
    "\n",
    "- Units & ranges\n",
    "- Labelling of axes\n",
    "- Title\n",
    "- Colouring\n",
    "- Any addition lines or points\n",
    "\n",
    "Always ask yourself: **What is the first character my audience will be introduced to in my plot?**\n",
    "\n",
    "In other words: **What do I want the audience to see & conclude first from my plot?**\n",
    "\n"
   ]
  }
 ],
 "metadata": {
  "kernelspec": {
   "display_name": "Python 3 (ipykernel)",
   "language": "python",
   "name": "python3"
  },
  "language_info": {
   "codemirror_mode": {
    "name": "ipython",
    "version": 3
   },
   "file_extension": ".py",
   "mimetype": "text/x-python",
   "name": "python",
   "nbconvert_exporter": "python",
   "pygments_lexer": "ipython3",
   "version": "3.9.7"
  }
 },
 "nbformat": 4,
 "nbformat_minor": 4
}
