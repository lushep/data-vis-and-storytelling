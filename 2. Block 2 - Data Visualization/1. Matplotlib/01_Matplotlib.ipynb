{
 "cells": [
  {
   "cell_type": "markdown",
   "id": "6c695a02",
   "metadata": {},
   "source": [
    "<img src='images/gdd-logo.png' width=250px align=right>\n",
    "    \n",
    "# Matplotlib\n",
    "\n",
    "Matplotlib is the main Python library for data visualisation, and therefore will be used for the majority of examples in this training. \n",
    "\n",
    "It is a comprehensive library for creating static, animated, and interactive visualizations in Python\n",
    "\n",
    "- [Introduction to matplotlib](#intro)\n",
    "- [Object Oriented Approach](#object)\n",
    "    - [<mark>Exercise: Add some customizations to practice using matplotlib objects</mark>](#ex-object)\n",
    "- [Multiple plots on one figure](#mult)"
   ]
  },
  {
   "cell_type": "code",
   "execution_count": null,
   "id": "4c328076",
   "metadata": {},
   "outputs": [],
   "source": [
    "import matplotlib.pyplot as plt\n",
    "import numpy as np"
   ]
  },
  {
   "cell_type": "markdown",
   "id": "2c9f31ca",
   "metadata": {},
   "source": [
    "**A small note on numpy**\n",
    "\n",
    "NumPy is a numerical library in Python. We will use it to generate some dummy data to demonstrate how matplotlib works.\n",
    "\n",
    "For example, to create an array of numbers 5 - 10 you can use the `np.arange(start, stop)` function. Note how the output will start from the number specified and go up to but not including the stop point."
   ]
  },
  {
   "cell_type": "code",
   "execution_count": null,
   "id": "7d7e6af1",
   "metadata": {},
   "outputs": [],
   "source": [
    "np.arange(5, 11)"
   ]
  },
  {
   "cell_type": "markdown",
   "id": "3d2cd65f",
   "metadata": {},
   "source": [
    "The `start=` parameter is actually optional. So to get an array of 0 - 10, you can simply use the below"
   ]
  },
  {
   "cell_type": "code",
   "execution_count": null,
   "id": "60f8f0a3",
   "metadata": {},
   "outputs": [],
   "source": [
    "np.arange(11)"
   ]
  },
  {
   "cell_type": "markdown",
   "id": "5aac0bb0",
   "metadata": {},
   "source": [
    "<a id=intro></a>\n",
    "\n",
    "## Introduction to `matplotlib`\n",
    "\n",
    "Matplotlib is a library for making 2D plots of arrays in Python. Although it has its origins in emulating the MATLAB graphics commands, it is independent of this, and can be used in a Pythonic way.\n",
    "\n",
    "Let's start by making a simple plot of two lines."
   ]
  },
  {
   "cell_type": "code",
   "execution_count": null,
   "id": "26c77b15",
   "metadata": {},
   "outputs": [],
   "source": [
    "line_x = np.arange(30)\n",
    "line_y = line_x*2\n",
    "\n",
    "plt.plot(line_x, line_y)"
   ]
  },
  {
   "cell_type": "markdown",
   "id": "ff4ff41c",
   "metadata": {},
   "source": [
    "Whenever you call `plt.plot()`, matplotlib creates a figure and then adds the data to that figure.\n",
    "\n",
    "Whenever we call `plt.` we are referring to the figure we have just created. Let's see what happens when you do two `plt.plot()`s one after the other.\n",
    "\n",
    "*Note: `array[::-1]` will reverse the array.*"
   ]
  },
  {
   "cell_type": "code",
   "execution_count": null,
   "id": "a1fa89ab",
   "metadata": {},
   "outputs": [],
   "source": [
    "line_x_reversed = line_x[::-1] \n",
    "\n",
    "plt.plot(line_x, line_y)\n",
    "plt.plot(line_x_reversed, line_y)"
   ]
  },
  {
   "cell_type": "markdown",
   "id": "6bd3e4ca",
   "metadata": {},
   "source": [
    "The two plots when on the same figure!\n",
    "\n",
    "This also allows us to do some customization (more on this later), using the other methods in `plt`, for example, adding a title."
   ]
  },
  {
   "cell_type": "code",
   "execution_count": null,
   "id": "04eaeea0",
   "metadata": {},
   "outputs": [],
   "source": [
    "plt.plot(line_x, line_y)\n",
    "plt.plot(line_x_reversed, line_y)\n",
    "\n",
    "plt.title('A plot with two lines')"
   ]
  },
  {
   "cell_type": "markdown",
   "id": "c26f2e51",
   "metadata": {},
   "source": [
    "However, things can become confusing quite quickly. The only reason the above code works is because it is in the same cell, so each new call of `plt` creates a new figure. Look what happenes when you simply want to have the same plot as above but don't rewrite `plt.plot()`"
   ]
  },
  {
   "cell_type": "code",
   "execution_count": null,
   "id": "270200ef",
   "metadata": {},
   "outputs": [],
   "source": [
    "plt.title('A plot with two lines')"
   ]
  },
  {
   "cell_type": "markdown",
   "id": "6c54b875",
   "metadata": {},
   "source": [
    "This is now an empty plot, with no lines!\n",
    "\n",
    "This is because cell-by-cell the plot from earlier is not remembered, when line-by-line in the same cell it is.\n",
    "\n",
    "So far you've created one plot with two lines on, but what if you wanted them to be separate?"
   ]
  },
  {
   "cell_type": "code",
   "execution_count": null,
   "id": "489d3a95",
   "metadata": {},
   "outputs": [],
   "source": [
    "plt.plot(line_x, line_y)\n",
    "plt.title('A plot with one line')\n",
    "\n",
    "plt.plot(line_x_reversed, line_y)\n",
    "plt.title('A plot with another line')"
   ]
  },
  {
   "cell_type": "markdown",
   "id": "e0f6bf7e",
   "metadata": {},
   "source": [
    "You may think the above should have worked, but Python isn't aware that you wanted to separate figures and just keeps updating the figure, even overwriting your title when `plt.title()` is called twice.\n",
    "\n",
    "To create two figures using this syntax, you have to explicitly tell Python to create a new figure using `plt.`. Now each `plt` is going to refer to the **current figure** until `plt.figure()` is called again."
   ]
  },
  {
   "cell_type": "code",
   "execution_count": null,
   "id": "66f7ebd4",
   "metadata": {},
   "outputs": [],
   "source": [
    "plt.figure() \n",
    "plt.plot(line_x, line_y)\n",
    "plt.title('A plot with one line')\n",
    "\n",
    "plt.figure()\n",
    "plt.plot(line_x_reversed, line_y, color='orange')\n",
    "plt.title('A plot with another line')"
   ]
  },
  {
   "cell_type": "markdown",
   "id": "18f5f564",
   "metadata": {},
   "source": [
    "### <mark>Exercise: Make a matplotlib plot</mark>\n",
    "\n",
    "Create some dummy data and use matplotlib to plot the data. You should have 2 plots.\n",
    "\n",
    "The first plot should:\n",
    "\n",
    "- Have x values from 0 to 30\n",
    "- Have y values from 50 - 200\n",
    "- Be the color `fuchsia`\n",
    "\n",
    "The second plot should:\n",
    "\n",
    "- Have x values from 0 to 30\n",
    "- Have y values from 30 - 0 (descreasing)\n",
    "- Be the color `limegreen`"
   ]
  },
  {
   "cell_type": "code",
   "execution_count": null,
   "id": "8fbda28c",
   "metadata": {},
   "outputs": [],
   "source": []
  },
  {
   "cell_type": "markdown",
   "id": "0de0bc62",
   "metadata": {},
   "source": [
    "**Bonus:** *Finished?* Add a title to your plots using `plt.title('Your title')`. Make sure everything is in the correct place!\n",
    "\n",
    "**Answers**: Uncomment and run the code to see a solution"
   ]
  },
  {
   "cell_type": "code",
   "execution_count": null,
   "id": "cb5ff8c1",
   "metadata": {},
   "outputs": [],
   "source": [
    "# %load answers/ex-matplotlib.py"
   ]
  },
  {
   "cell_type": "markdown",
   "id": "38384f17",
   "metadata": {},
   "source": [
    "Note that the first `plt.figure()` is not completely necessary as `plt.plot()` will implicitly create a new figure if none already exists, however it does make it clear to the reader that you are intending to create two separate figures.\n",
    "\n",
    "Now consider the following:\n",
    "- What if you wanted to create 3 or more figures?\n",
    "- What if you wanted to reference the first plot again?\n",
    "- What if you wanted the two charts above to *share the title*?\n",
    "\n",
    "Can you see how things start to get complicated quickly?\n",
    "\n",
    "***Hey, what if we could give names to these separate figures? Wouldn't that make things clearer?***"
   ]
  },
  {
   "cell_type": "markdown",
   "id": "34574469",
   "metadata": {},
   "source": [
    "<a id=object></a>\n",
    "\n",
    "## Object-oriented Approach\n",
    "\n",
    "In object-oriented interface, the `plt` accessor is used only for a few functions such as figure creation. \n",
    "\n",
    "This means the user explicitly creates and keeps track of the **figure** and **axes** objects. \n",
    "\n",
    "### Using `plt.subplots()`\n",
    "\n",
    "Let's see how we can do the first bit: **Create a figure and axes using** `plt`\n",
    "\n",
    "We use the function `plt.subplots()` as we have the capability to create multiple plots on one figure (more on that later). For now let's just create one figure and one axis."
   ]
  },
  {
   "cell_type": "code",
   "execution_count": null,
   "id": "94a83818",
   "metadata": {},
   "outputs": [],
   "source": [
    "fig, ax = plt.subplots()"
   ]
  },
  {
   "cell_type": "markdown",
   "id": "b5101dd8",
   "metadata": {},
   "source": [
    "Now if we wanted to add data to this, we would add it to the axis `ax`"
   ]
  },
  {
   "cell_type": "code",
   "execution_count": null,
   "id": "5ce84b72",
   "metadata": {},
   "outputs": [],
   "source": [
    "fig, ax = plt.subplots()\n",
    "\n",
    "ax.plot(line_x, line_y)"
   ]
  },
  {
   "cell_type": "markdown",
   "id": "955ef64b",
   "metadata": {},
   "source": [
    "So now all you need to remember is that when you create a plot, you create a `Figure` and an `Axes`... \n",
    "\n",
    "...but ***what do we mean when we say*** `Figure` ***and*** `Axes`?***\n",
    "\n",
    "### The `figure` and the `axes` objects\n",
    "\n",
    "The `Figure` object is the **top level container** for all the other elements that make up the graphic image. The `Figure` object can be thought of as a canvas, upon which different artists act to create the final graphic image.\n",
    "\n",
    "See the diagram of a `Figure` below. All of the **Artists** can be seen in blue. \n",
    "\n",
    "<img src=images/anatomy-of-figure.png width=500px>\n",
    "\n",
    "Each **plot** that we see in a `Figure`, is an `Axes` object. The `Axes` object holds \n",
    "- the data that we are going to display\n",
    "- the X- and Y-axis labels\n",
    "- the data limits\n",
    "- ticks and tick labels\n",
    "\n",
    "Each Axes object will contain two or more Axis objects.\n",
    "\n",
    "Understanding this hierarchy of Figure, Artist, Axes and Axis is immensely important, because it plays a crucial role in how me make an animation in matplotlib."
   ]
  },
  {
   "cell_type": "code",
   "execution_count": null,
   "id": "72f49600",
   "metadata": {},
   "outputs": [],
   "source": [
    "x = list(range(30))\n",
    "y_linear = [y*2 for y in x]\n",
    "y_quadratic = [y**2 for y in x]\n",
    "\n",
    "fig, ax1 = plt.subplots()\n",
    "\n",
    "ax1.plot(x, y_linear)\n",
    "\n",
    "ax2 = ax1.twinx()\n",
    "\n",
    "ax2.plot(x, y_quadratic, color='orange')"
   ]
  },
  {
   "cell_type": "markdown",
   "id": "bdc11c9a",
   "metadata": {},
   "source": [
    "<a id=ex-object></a>\n",
    "\n",
    "The graph above is a little misleading, below you will see how you can add customizations to make the chart more readable.\n",
    "\n",
    "### <mark>Exercise: Improve the graph by adding some customizations</mark>\n",
    "\n",
    "Add some artists to your visualization. When adding to the `Figure` use `fig.` and when adding to the `Axes` use `ax1.` or `ax2.`\n",
    "\n",
    "1. Add a legend to the `Figure`, specifying the parameter `handles=` as a list of strings to show which line is `Linear` and which is `Quadratic`\n",
    "2. Add labels to both `y-axis` using `set_ylabel()`\n",
    "3. Add a title to one of the `Axes` using `set_title()`\n",
    "4. Add a grid to only the `y-axis` on both `Axes` using `grid()`. Note how they don't line up?\n",
    "5. Challenge: set the intervals for each `y-axis` to be the same. To do that you can use the following code:\n",
    "```python\n",
    "ax.set_yticks(np.linspace(*ax.get_ybound(), 10))\n",
    "```"
   ]
  },
  {
   "cell_type": "code",
   "execution_count": null,
   "id": "2d06ab56",
   "metadata": {},
   "outputs": [],
   "source": [
    "x = np.arange(30)\n",
    "y_linear = x*2\n",
    "y_quadratic = x**2\n",
    "\n",
    "fig, ax1 = plt.subplots()\n",
    "\n",
    "ax1.plot(x, y_linear)\n",
    "\n",
    "ax2 = ax1.twinx()\n",
    "\n",
    "ax2.plot(x, y_quadratic, color='orange')\n",
    "\n",
    "# add legend\n",
    "\n",
    "\n",
    "# set ylabels for both axes\n",
    "\n",
    "\n",
    "# set title\n",
    "\n",
    "\n",
    "# make the gridlines match up and add only the y gridlines to the axes\n",
    "\n"
   ]
  },
  {
   "cell_type": "markdown",
   "id": "254f6415",
   "metadata": {},
   "source": [
    "**Answers**: Uncomment and run the following to see a solution"
   ]
  },
  {
   "cell_type": "code",
   "execution_count": null,
   "id": "eab1f68c",
   "metadata": {},
   "outputs": [],
   "source": [
    "# %load answers/ex-customizations.py"
   ]
  },
  {
   "cell_type": "markdown",
   "id": "c20ba31e",
   "metadata": {},
   "source": [
    "<a id=mult></a>\n",
    "\n",
    "## Multiple plots on one figure\n",
    "\n",
    "So the question that remains, or at leat one of them, might be ***Why is it*** `plt.subplots()` ***with an s?***\n",
    "\n",
    "The simple answer is that **you can make a figure that has multiple** `Axes`"
   ]
  },
  {
   "cell_type": "code",
   "execution_count": null,
   "id": "80f0e567",
   "metadata": {},
   "outputs": [],
   "source": [
    "fig, axes = plt.subplots(nrows=2, ncols=3, figsize=(15,8))\n",
    "\n",
    "y00 = x\n",
    "y01 = x**2\n",
    "y02 = x**0.5\n",
    "\n",
    "y10 = x*-1\n",
    "y11 = x**2*-1\n",
    "y12 = x**0.5*-1\n",
    "\n",
    "# the first row of axes\n",
    "axes[0][0].plot(x, y00)\n",
    "axes[0][1].plot(x, y01)\n",
    "axes[0][2].plot(x, y02)\n",
    "\n",
    "# the second row of axes\n",
    "axes[1][0].plot(x, y10)\n",
    "axes[1][1].plot(x, y11)\n",
    "axes[1][2].plot(x, y12)"
   ]
  },
  {
   "cell_type": "markdown",
   "id": "37287651",
   "metadata": {},
   "source": [
    "<img src='images/conclusion.png' width=300px align=right>\n",
    "\n",
    "# Conclusion\n",
    "\n",
    "Matplotlib is the main plotting library in Python. It is super easy to create straightforward plots and with all the \"Artisits\" that we have access to in matplotlib, it means we can customize our plots to look how we want. \n",
    "\n",
    "The next topic will look at how to use matplotlib with datasets, since when we are creating visuals it will often come from data."
   ]
  }
 ],
 "metadata": {
  "kernelspec": {
   "display_name": "Python 3 (ipykernel)",
   "language": "python",
   "name": "python3"
  },
  "language_info": {
   "codemirror_mode": {
    "name": "ipython",
    "version": 3
   },
   "file_extension": ".py",
   "mimetype": "text/x-python",
   "name": "python",
   "nbconvert_exporter": "python",
   "pygments_lexer": "ipython3",
   "version": "3.9.7"
  }
 },
 "nbformat": 4,
 "nbformat_minor": 5
}
