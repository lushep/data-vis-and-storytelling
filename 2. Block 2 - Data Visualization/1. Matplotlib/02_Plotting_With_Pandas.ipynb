{
 "cells": [
  {
   "cell_type": "markdown",
   "metadata": {},
   "source": [
    "<img src=images/gdd-logo.png width=300px align=right>\n",
    "\n",
    "# Plotting in Pandas\n",
    "\n",
    "A great feature of Pandas is that it is really easy to make plots and visualisation directly from the dataframes.\n",
    "\n",
    "In this notebook we will cover:\n",
    "- [Pandas Plots](#1)\n",
    "    - [<mark> Exercise: line </mark>](#line)\n",
    "    - [<mark> Exercise: bar </mark>](#bar)\n",
    "- [Using data from a file](#data)\n",
    "    - [<mark>Exercise: Customize the plot</mark>](#ex-data)"
   ]
  },
  {
   "cell_type": "code",
   "execution_count": null,
   "metadata": {},
   "outputs": [],
   "source": [
    "import pandas as pd\n",
    "import matplotlib.pyplot as plt"
   ]
  },
  {
   "cell_type": "markdown",
   "metadata": {},
   "source": [
    "<a id='1' ></a>\n",
    "## Pandas Plots"
   ]
  },
  {
   "cell_type": "markdown",
   "metadata": {},
   "source": [
    "We use the [`.plot()`](https://pandas.pydata.org/pandas-docs/version/0.23.4/generated/pandas.DataFrame.plot.html) method on a DataFrame to create plot, e.g.\n",
    "\n",
    "```python\n",
    "dataframe.plot(x= , y= , kind= , ax= , ...)\n",
    "```\n",
    "\n",
    "Where the `ax=` parameter will reference the `Axes` we have already created using `fig, ax = plt.subplots()`.\n",
    "    \n",
    "The `.plot()` method takes several optional parameters. Most notably the *kind* parameter, which accepts eleven different string values and determines which kind of plot you’ll create:\n",
    "\n",
    "1. \"area\" is for area plots.\n",
    "2. \"bar\" is for vertical bar charts.\n",
    "3. \"barh\" is for horizontal bar charts.\n",
    "4. \"box\" is for box plots.\n",
    "5. \"hexbin\" is for hexbin plots.\n",
    "6. \"hist\" is for histograms.\n",
    "7. \"kde\" is for kernel density estimate charts.\n",
    "8. \"density\" is an alias for \"kde\".\n",
    "9. \"line\" is for line graphs.\n",
    "10. \"pie\" is for pie charts.\n",
    "11. \"scatter\" is for scatter plots.\n",
    "\n",
    "We'll demonstrate a few of these on some toy datasets."
   ]
  },
  {
   "cell_type": "markdown",
   "metadata": {},
   "source": [
    "### Scatter"
   ]
  },
  {
   "cell_type": "code",
   "execution_count": null,
   "metadata": {},
   "outputs": [],
   "source": [
    "#Dataset tracking unemployment rate against the stock index price.\n",
    "\n",
    "Data = {'Unemployment_Rate': [6.1,5.8,5.7,5.7,5.8,5.6,5.5,5.3,5.2,5.2],\n",
    "        'Stock_Index_Price': [1500,1520,1525,1523,1515,1540,1545,1560,1555,1565]\n",
    "       }\n",
    "  \n",
    "stock_price_df = pd.DataFrame(Data)\n",
    "stock_price_df"
   ]
  },
  {
   "cell_type": "code",
   "execution_count": null,
   "metadata": {},
   "outputs": [],
   "source": [
    "fig, ax = plt.subplots()\n",
    "\n",
    "stock_price_df.plot(x = 'Stock_Index_Price', y = 'Unemployment_Rate', kind='scatter', ax=ax)"
   ]
  },
  {
   "cell_type": "markdown",
   "metadata": {},
   "source": [
    "We can the excess output with a semi-colon. This can also be done by creating a dummy variable."
   ]
  },
  {
   "cell_type": "markdown",
   "metadata": {},
   "source": [
    "<a id='line' ></a>\n",
    "### <mark> Exercise: Line </mark>\n",
    "\n",
    "Produce a line chart for the following dataset tracking yearly unemployment rate. Customise it with a `color` argument (only need to specify the first letter of the color you want to use)."
   ]
  },
  {
   "cell_type": "code",
   "execution_count": null,
   "metadata": {},
   "outputs": [],
   "source": [
    "Data = {'Year': [1920,1930,1940,1950,1960,1970,1980,1990,2000,2010],\n",
    "        'Unemployment_Rate': [9.8,12,8,7.2,6.9,7,6.5,6.2,5.5,6.3]\n",
    "       }\n",
    "unemployment_df = pd.DataFrame(Data)\n",
    "unemployment_df"
   ]
  },
  {
   "cell_type": "code",
   "execution_count": null,
   "metadata": {},
   "outputs": [],
   "source": [
    "fig, ax = plt.subplots()\n",
    "\n",
    "unemployment_df.plot()"
   ]
  },
  {
   "cell_type": "markdown",
   "metadata": {},
   "source": [
    "<a id='bar' ></a>\n",
    "### <mark> Exercise: Bar </mark>\n",
    "\n",
    "Make a bar chart with the data below. See if you can add a title."
   ]
  },
  {
   "cell_type": "code",
   "execution_count": null,
   "metadata": {
    "lines_to_next_cell": 0
   },
   "outputs": [],
   "source": [
    "#Dataset for countries GDP per Capita.\n",
    "Data = {'Country': ['USA','Canada','Germany','UK','France'],\n",
    "        'GDP_Per_Capita': [45000,42000,52000,49000,47000]\n",
    "       }\n",
    "  \n",
    "gdp_df = pd.DataFrame(Data)\n",
    "gdp_df"
   ]
  },
  {
   "cell_type": "code",
   "execution_count": null,
   "metadata": {
    "lines_to_next_cell": 2
   },
   "outputs": [],
   "source": []
  },
  {
   "cell_type": "markdown",
   "metadata": {},
   "source": [
    "### Pie"
   ]
  },
  {
   "cell_type": "code",
   "execution_count": null,
   "metadata": {
    "scrolled": true
   },
   "outputs": [],
   "source": [
    "#Dataset tacking tasks completed\n",
    "Data = {'Tasks': [300,500,700]}\n",
    "tasks_df = pd.DataFrame(Data, index = ['Tasks Pending',\n",
    "                                 'Tasks Ongoing',\n",
    "                                 'Tasks Completed']\n",
    "                 )\n",
    "tasks_df"
   ]
  },
  {
   "cell_type": "code",
   "execution_count": null,
   "metadata": {
    "scrolled": true
   },
   "outputs": [],
   "source": [
    "df.plot(y='Tasks', kind='pie', figsize=(5, 5), startangle=90);"
   ]
  },
  {
   "cell_type": "markdown",
   "metadata": {},
   "source": [
    "## Using data from a file\n",
    "\n",
    "Let's take a look at the top 10 directors according to number of TV Shows and Movies on US Netflix.\n",
    "\n",
    "We have the csv file `netflix-top10-directors.csv` in the folder `data/`. When this folder is saved on your computer in the same location as your notebook file, you can use the relative path as shown below."
   ]
  },
  {
   "cell_type": "code",
   "execution_count": 98,
   "metadata": {},
   "outputs": [
    {
     "data": {
      "text/html": [
       "<div>\n",
       "<style scoped>\n",
       "    .dataframe tbody tr th:only-of-type {\n",
       "        vertical-align: middle;\n",
       "    }\n",
       "\n",
       "    .dataframe tbody tr th {\n",
       "        vertical-align: top;\n",
       "    }\n",
       "\n",
       "    .dataframe thead th {\n",
       "        text-align: right;\n",
       "    }\n",
       "</style>\n",
       "<table border=\"1\" class=\"dataframe\">\n",
       "  <thead>\n",
       "    <tr style=\"text-align: right;\">\n",
       "      <th></th>\n",
       "      <th>director</th>\n",
       "      <th>Movie</th>\n",
       "      <th>TV Show</th>\n",
       "      <th>total</th>\n",
       "    </tr>\n",
       "  </thead>\n",
       "  <tbody>\n",
       "    <tr>\n",
       "      <th>0</th>\n",
       "      <td>Rajiv Chilaka</td>\n",
       "      <td>19.0</td>\n",
       "      <td>NaN</td>\n",
       "      <td>19.0</td>\n",
       "    </tr>\n",
       "    <tr>\n",
       "      <th>1</th>\n",
       "      <td>Raúl Campos, Jan Suter</td>\n",
       "      <td>18.0</td>\n",
       "      <td>NaN</td>\n",
       "      <td>18.0</td>\n",
       "    </tr>\n",
       "    <tr>\n",
       "      <th>2</th>\n",
       "      <td>Suhas Kadav</td>\n",
       "      <td>16.0</td>\n",
       "      <td>NaN</td>\n",
       "      <td>16.0</td>\n",
       "    </tr>\n",
       "    <tr>\n",
       "      <th>3</th>\n",
       "      <td>Marcus Raboy</td>\n",
       "      <td>15.0</td>\n",
       "      <td>1.0</td>\n",
       "      <td>16.0</td>\n",
       "    </tr>\n",
       "    <tr>\n",
       "      <th>4</th>\n",
       "      <td>Jay Karas</td>\n",
       "      <td>14.0</td>\n",
       "      <td>NaN</td>\n",
       "      <td>14.0</td>\n",
       "    </tr>\n",
       "    <tr>\n",
       "      <th>5</th>\n",
       "      <td>Cathy Garcia-Molina</td>\n",
       "      <td>13.0</td>\n",
       "      <td>NaN</td>\n",
       "      <td>13.0</td>\n",
       "    </tr>\n",
       "    <tr>\n",
       "      <th>6</th>\n",
       "      <td>Jay Chapman</td>\n",
       "      <td>12.0</td>\n",
       "      <td>NaN</td>\n",
       "      <td>12.0</td>\n",
       "    </tr>\n",
       "    <tr>\n",
       "      <th>7</th>\n",
       "      <td>Youssef Chahine</td>\n",
       "      <td>12.0</td>\n",
       "      <td>NaN</td>\n",
       "      <td>12.0</td>\n",
       "    </tr>\n",
       "    <tr>\n",
       "      <th>8</th>\n",
       "      <td>Martin Scorsese</td>\n",
       "      <td>12.0</td>\n",
       "      <td>NaN</td>\n",
       "      <td>12.0</td>\n",
       "    </tr>\n",
       "    <tr>\n",
       "      <th>9</th>\n",
       "      <td>Steven Spielberg</td>\n",
       "      <td>11.0</td>\n",
       "      <td>NaN</td>\n",
       "      <td>11.0</td>\n",
       "    </tr>\n",
       "  </tbody>\n",
       "</table>\n",
       "</div>"
      ],
      "text/plain": [
       "                 director  Movie  TV Show  total\n",
       "0           Rajiv Chilaka   19.0      NaN   19.0\n",
       "1  Raúl Campos, Jan Suter   18.0      NaN   18.0\n",
       "2             Suhas Kadav   16.0      NaN   16.0\n",
       "3            Marcus Raboy   15.0      1.0   16.0\n",
       "4               Jay Karas   14.0      NaN   14.0\n",
       "5     Cathy Garcia-Molina   13.0      NaN   13.0\n",
       "6             Jay Chapman   12.0      NaN   12.0\n",
       "7         Youssef Chahine   12.0      NaN   12.0\n",
       "8         Martin Scorsese   12.0      NaN   12.0\n",
       "9        Steven Spielberg   11.0      NaN   11.0"
      ]
     },
     "execution_count": 98,
     "metadata": {},
     "output_type": "execute_result"
    }
   ],
   "source": [
    "pd.read_csv('data/netflix-top10-directors.csv')"
   ]
  },
  {
   "cell_type": "markdown",
   "metadata": {},
   "source": [
    "Let's re-read this data, but this time let's specify an index column. What happens to that column?"
   ]
  },
  {
   "cell_type": "code",
   "execution_count": null,
   "metadata": {},
   "outputs": [],
   "source": [
    "netflix_directors = pd.read_csv('data/netflix-top10-directors.csv', index_col='director')\n",
    "netflix_directors"
   ]
  },
  {
   "cell_type": "markdown",
   "metadata": {},
   "source": [
    "The index is a special type of column, for example you can use it to slice your data (amongst other cool things)."
   ]
  },
  {
   "cell_type": "code",
   "execution_count": null,
   "metadata": {},
   "outputs": [],
   "source": [
    "netflix_directors.loc['Jay Chapman': 'Steven Spielberg']"
   ]
  },
  {
   "cell_type": "markdown",
   "metadata": {},
   "source": [
    "But more interestingly for us, when you call `.plot()` the index will automatically become the `x-axis`. Therefore you don't need to specific the `x=` parameter."
   ]
  },
  {
   "cell_type": "code",
   "execution_count": null,
   "metadata": {},
   "outputs": [],
   "source": [
    "fig, ax = plt.subplots()\n",
    "\n",
    "netflix_directors.plot(y = 'total', ax=ax)"
   ]
  },
  {
   "cell_type": "markdown",
   "metadata": {},
   "source": [
    "Cool! Does this chart make sense as a line chart? Probably not as there's no continuation as we move from director to director. Let's instead make a bar plot"
   ]
  },
  {
   "cell_type": "code",
   "execution_count": null,
   "metadata": {},
   "outputs": [],
   "source": [
    "fig, ax = plt.subplots()\n",
    "\n",
    "netflix_directors.plot(y = 'total', kind='bar', ax=ax)"
   ]
  },
  {
   "cell_type": "markdown",
   "metadata": {},
   "source": [
    "However, let's say you wanted to see when the director made a **TV Show** rather than a **Movie**. We'd probably want to create a bar chart with an extra dimension - a stacked bar chart. \n",
    "\n",
    "You can create a stacked bar chart by specifying to columns for `y` and using the parameter `stacked=True`."
   ]
  },
  {
   "cell_type": "code",
   "execution_count": null,
   "metadata": {},
   "outputs": [],
   "source": [
    "fig, ax = plt.subplots()\n",
    "\n",
    "netflix_directors.plot(y=['Movie', 'TV Show'], kind='bar', stacked=True, ax=ax)"
   ]
  },
  {
   "cell_type": "markdown",
   "metadata": {},
   "source": [
    "## <mark>Exercise: Customize the plot</mark>\n",
    "\n",
    "Using what you learned previously make some changes to the plot. You can choose some of your own customizations or you can follow the list below. \n",
    "\n",
    "*Notes: The more stars, the harder the customization. Use Google to find answers where we haven't seen the code*\n",
    "\n",
    "- ★ Add a title\n",
    "- ★ Add a label to the `y-axis`\n",
    "- ★★ Change the color from default (blue & orange) to something else\n",
    "- ★★ Make the chart bigger (using the parameter `figsize=`)\n",
    "- ★★★ Change the `yticks` so that they are only showing integers and add gridlines\n",
    "- ★★★ Add a horizontal line to represent the mean of the values\n",
    "\n",
    "Add customizations to the below"
   ]
  },
  {
   "cell_type": "code",
   "execution_count": null,
   "metadata": {},
   "outputs": [],
   "source": [
    "fig, ax = plt.subplots() \n",
    "\n",
    "netflix_directors.plot(y=['Movie', 'TV Show'], \n",
    "                       kind='bar', stacked=True, \n",
    "                       ax=ax)"
   ]
  },
  {
   "cell_type": "markdown",
   "metadata": {},
   "source": [
    "**Answers**: Uncomment and run the following code to see a solution"
   ]
  },
  {
   "cell_type": "code",
   "execution_count": null,
   "metadata": {},
   "outputs": [],
   "source": [
    "# %load answers/ex-netflix-customizations.py"
   ]
  },
  {
   "cell_type": "markdown",
   "metadata": {},
   "source": [
    "<img src='images/conclusion.png' width=300px align=right>\n",
    "\n",
    "# Conclusion\n",
    "\n",
    "In this notebook, we looked at how to plot data with matplotlib using the pandas method `.plot()`.\n",
    "\n",
    "Carrying over what you learned from the matplotlib notebook, you also set up your figure and axes before creating the plot. This isn't always necessary, however if you want your code to be readable, robust and scalable, this is the best way of doing things.\n",
    "\n",
    "Up next we will look at an alternative to matplotlib. While matplotlib is the main plotting library, other libraries can provide benefits by being more data-centric and produce out-of-the-box plots with interactive elements."
   ]
  }
 ],
 "metadata": {
  "jupytext": {
   "encoding": "# -*- coding: utf-8 -*-",
   "text_representation": {
    "extension": ".py",
    "format_name": "percent",
    "format_version": "1.3",
    "jupytext_version": "1.7.1"
   }
  },
  "kernelspec": {
   "display_name": "Python 3 (ipykernel)",
   "language": "python",
   "name": "python3"
  },
  "language_info": {
   "codemirror_mode": {
    "name": "ipython",
    "version": 3
   },
   "file_extension": ".py",
   "mimetype": "text/x-python",
   "name": "python",
   "nbconvert_exporter": "python",
   "pygments_lexer": "ipython3",
   "version": "3.9.7"
  }
 },
 "nbformat": 4,
 "nbformat_minor": 2
}
