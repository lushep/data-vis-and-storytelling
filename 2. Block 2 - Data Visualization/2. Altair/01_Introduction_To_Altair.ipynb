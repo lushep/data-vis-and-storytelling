{
 "cells": [
  {
   "cell_type": "code",
   "execution_count": null,
   "metadata": {},
   "outputs": [],
   "source": [
    "# conda install -c conda-forge altair"
   ]
  },
  {
   "cell_type": "code",
   "execution_count": null,
   "metadata": {},
   "outputs": [],
   "source": [
    "import numpy as np\n",
    "import pandas as pd\n",
    "import altair as alt\n",
    "\n",
    "# This line enables altair to run in your notebook with a live internet connection. \n",
    "alt.renderers.enable('default')\n",
    "\n",
    "# Optionally, for offline rendering in Jupyter Notebook, you can use the notebook renderer:\n",
    "# alt.renderers.enable('notebook')"
   ]
  },
  {
   "cell_type": "markdown",
   "metadata": {},
   "source": [
    "# Altair: Statistical Visualization for Python\n",
    "\n",
    "[Altair](http://github.com/altair-viz/altair/) provides a declarative Python API for statistical visualization, built on top of [Vega-Lite](http://vega.github.io/vega-lite/). For more complete documentation, see [Altair's Documentation](http://altair-viz.github.io/).\n",
    "\n",
    "### About Altair\n",
    "The key feature of this declarative approach is that the user is free to think about the data, rather than the mechanics of the visualization. Vega-Lite specifications are expressed in JavaScript Object Notation (JSON), a cross-platform format often used for storage of nested and/or hierarchical data. Altair builds a Python layer on top of this, so that rather than writing raw JSON strings the user can write declarative Python code.\n",
    "\n",
    "This notebook highlights the various building blocks necessary to construct a visualization with Altair, as well as some cool usages. "
   ]
  },
  {
   "cell_type": "markdown",
   "metadata": {},
   "source": [
    "### Quick example\n",
    "Let's start with a quick example. For this, we'll read in the cars dataset with Pandas and display a simple chart. "
   ]
  },
  {
   "cell_type": "code",
   "execution_count": null,
   "metadata": {},
   "outputs": [],
   "source": [
    "cars = pd.read_csv('data/cars_dataset.csv')\n",
    "cars.head()"
   ]
  },
  {
   "cell_type": "code",
   "execution_count": null,
   "metadata": {},
   "outputs": [],
   "source": [
    "alt.Chart(cars).mark_circle().encode(\n",
    "    x = 'Horsepower',\n",
    "    y = 'Miles_per_Gallon'\n",
    ")"
   ]
  },
  {
   "cell_type": "markdown",
   "metadata": {},
   "source": [
    "Unlike matplotlib, Altair expects the data passed to it to be in a specific format and *named*. This can be in the form of a URL string pointing to a JSON or CSV formatted text file, an `altair.Data` object, or - as is most common - a Pandas DataFrame. This is why we imported cars as a Pandas dataframe. \n",
    "\n",
    "NumPy arrays, which we could use with matplotlib, are not sufficient for use with altair as it is not a form of named data with labeled columns. \n"
   ]
  },
  {
   "cell_type": "markdown",
   "metadata": {},
   "source": [
    "# Building blocks\n",
    "\n",
    "Creating a new altair plot consists of chaining various calls. In our example, we've already seen that different functions are chained to create the output chart. In this notebook, we will discuss the key Altair's building blocks:\n",
    "\n",
    "1. [The Chart object](#object)\n",
    "2. [Marks](#marks)\n",
    "3. [Data encodings](#encodings)\n",
    "4. [Chart properties](#prop)\n",
    "5. [Interactive](#interactive)\n",
    "\n",
    "<a id='object'></a>\n",
    "## 1. The Chart object\n",
    "\n",
    "The fundamental object in Altair is the ``Chart``. It takes a single argument: the dataframe to be visualized. "
   ]
  },
  {
   "cell_type": "code",
   "execution_count": null,
   "metadata": {},
   "outputs": [],
   "source": [
    "chart = alt.Chart(cars)"
   ]
  },
  {
   "cell_type": "markdown",
   "metadata": {},
   "source": [
    "Fundamentally, a ``Chart`` is an object which knows how to emit a JSON dictionary representing the data and visualization encodings (see below), which can be sent to the notebook and rendered by the Vega-Lite JavaScript library.\n",
    "\n",
    "Here is what that JSON looks like for the current chart (since the chart is not yet complete, we turn off chart validation):"
   ]
  },
  {
   "cell_type": "code",
   "execution_count": null,
   "metadata": {},
   "outputs": [],
   "source": [
    "chart.to_dict(validate=False)"
   ]
  },
  {
   "cell_type": "markdown",
   "metadata": {},
   "source": [
    "At this point the specification contains only the data and the default configuration, but no visualization specification."
   ]
  },
  {
   "cell_type": "markdown",
   "metadata": {},
   "source": [
    "<a id='marks'></a>\n",
    "## 2. Marks\n",
    "\n",
    "Next, it needs to be decided what kind of mark should be used to represent the data. Each mark has its own associated `mark_*` method, the arguments of which can vary depending on the type of mark. The mark property is what specifies how exactly the data should be represented on the plot.\n",
    "\n",
    "In the previous example, `mark_circle` was used to represent each data point as a circle. Other options include (but are not limited to): \n",
    "* `mark_area()`: a filled area plot\n",
    "* `mark_bar()`: a bar plot\n",
    "* `mark_line()`: a line plot\n",
    "* `mark_circle()`: a scatter plot with filled circles\n",
    "* `mark_point()`: a scatter plot with configurable point shapes \n",
    "* `mark_square()`: a scatter plot with filled squares\n",
    "\n",
    "\n",
    "More types of marks can be found in the [Documentation](https://altair-viz.github.io/user_guide/marks.html). "
   ]
  },
  {
   "cell_type": "code",
   "execution_count": null,
   "metadata": {},
   "outputs": [],
   "source": [
    "alt.Chart(cars).mark_square(\n",
    "    color='red',\n",
    "    opacity=.2\n",
    ").encode(\n",
    "    x='Horsepower',\n",
    "    y='Miles_per_Gallon',\n",
    ")"
   ]
  },
  {
   "cell_type": "markdown",
   "metadata": {},
   "source": [
    "The mark property specifies exactly how the data should be represented on the plot, which is **independent** of the data."
   ]
  },
  {
   "cell_type": "markdown",
   "metadata": {},
   "source": [
    "### <mark>Exercise 1: Your first Altair plot</mark>\n",
    "\n",
    "Create a scatterplot of `Weight_in_lbs` vs `Acceleration`. \n",
    "\n",
    "Let each data point be represented by an empty green circle with 0.4 opacity and a size of 50"
   ]
  },
  {
   "cell_type": "code",
   "execution_count": null,
   "metadata": {},
   "outputs": [],
   "source": []
  },
  {
   "cell_type": "code",
   "execution_count": null,
   "metadata": {},
   "outputs": [],
   "source": [
    "#%load answers/altair_ex_1.py"
   ]
  },
  {
   "cell_type": "markdown",
   "metadata": {},
   "source": [
    "<a id='encodings'></a>\n",
    "## 3. Data encodings\n",
    "The next step is to add *visual encodings* (or *encodings* for short) to the chart. A visual encoding specifies how a given data column should be mapped onto the visual properties of the visualization.\n",
    "Some of the more frequently used visual encodings are listed here:\n",
    "\n",
    "* X: x-axis value\n",
    "* Y: y-axis value\n",
    "* Color: color of the mark\n",
    "* Opacity: transparency/opacity of the mark\n",
    "* Shape: shape of the mark\n",
    "* Size: size of the mark\n",
    "\n",
    "For a complete list of these encodings, see the [Encodings](https://altair-viz.github.io/user_guide/encoding.html) section of the documentation.\n",
    "\n",
    "Visual encodings can be created with the `encode()` method of the `Chart` object."
   ]
  },
  {
   "cell_type": "code",
   "execution_count": null,
   "metadata": {},
   "outputs": [],
   "source": [
    "alt.Chart(cars).mark_point().encode(\n",
    "    x = 'Horsepower',\n",
    "    y = 'Miles_per_Gallon'\n",
    ")"
   ]
  },
  {
   "cell_type": "markdown",
   "metadata": {},
   "source": [
    "This chart plots - as expected - Horsepower vs. Miles per Gallon. However, all points are of the same color. What if we want to distinguish them based on some other property? This can be easily changed: "
   ]
  },
  {
   "cell_type": "code",
   "execution_count": null,
   "metadata": {},
   "outputs": [],
   "source": [
    "alt.Chart(cars).mark_point().encode(\n",
    "    x='Horsepower',\n",
    "    y='Miles_per_Gallon',\n",
    "    color='Cylinders'\n",
    ")"
   ]
  },
  {
   "cell_type": "markdown",
   "metadata": {},
   "source": [
    "Something strange is happening here - the data in the `Cylinder` column is interpreted as a continuous scale between 3 (min. number of cylinders) and 8 (max. number of cylinders). That's not what we want! \n",
    "\n",
    "The data type of a column can be set explicitly using a one letter code attached to the column name with a colon:\n",
    "\n",
    "|Data Type|Code|Description|\n",
    "|---|---|---|\n",
    "|quantitative|Q|Numerical quantity (real-valued)|\n",
    "|nominal|N|Name / Unordered categorical|\n",
    "|ordinal|O|Ordered categorical|\n",
    "|temporal|T|Date/time|"
   ]
  },
  {
   "cell_type": "code",
   "execution_count": null,
   "metadata": {},
   "outputs": [],
   "source": [
    "alt.Chart(cars).mark_point().encode(\n",
    "    x='Horsepower',\n",
    "    y='Miles_per_Gallon',\n",
    "    color='Cylinders:O', # also try N and Q\n",
    ")"
   ]
  },
  {
   "cell_type": "markdown",
   "metadata": {},
   "source": [
    "Another neat addition based on the data is the **tooltip**, which shows you information from the dataframe upon hovering over the data point. "
   ]
  },
  {
   "cell_type": "code",
   "execution_count": null,
   "metadata": {},
   "outputs": [],
   "source": [
    "alt.Chart(cars).mark_point().encode(\n",
    "    x='Horsepower',\n",
    "    y='Miles_per_Gallon',\n",
    "    color='Cylinders:O',\n",
    "    tooltip=['Origin', 'Year']\n",
    ")"
   ]
  },
  {
   "cell_type": "markdown",
   "metadata": {},
   "source": [
    "***Important to note!***\n",
    "\n",
    "`encode()` handles all plotting information based on the ***data***. E.g. when the colours in the plot are dependent on data, they are specified in `encode()`. If they are not (maybe you are just specifying one block colour) they are handled by `mark_*`.\n",
    "\n",
    "This, for example, would not work: "
   ]
  },
  {
   "cell_type": "code",
   "execution_count": null,
   "metadata": {},
   "outputs": [],
   "source": [
    "alt.Chart(cars).mark_point().encode(\n",
    "    x='Horsepower',\n",
    "    y='Miles_per_Gallon',\n",
    "    color='red'\n",
    ")"
   ]
  },
  {
   "cell_type": "markdown",
   "metadata": {},
   "source": [
    "Because `'red'` is not one of the column names in the dataframe that was passed. \n",
    "\n",
    "Let's rewrite this so that it does what we want:"
   ]
  },
  {
   "cell_type": "code",
   "execution_count": null,
   "metadata": {},
   "outputs": [],
   "source": []
  },
  {
   "cell_type": "markdown",
   "metadata": {},
   "source": [
    "### <mark>Exercise 2: Encode your plot</mark>\n",
    "\n",
    "Create a new scatter plot with `Acceleration` vs. `Weight_in_lbs`. The color of the mark is dependent on the number of cylinders. Each mark should display the name of the car when you hover over it, and the shape of the mark determined based on the country of origin. The size of the mark should be 100. \n",
    "\n",
    "*Bonus*: Adjust the color of the mark to not be a shade of blue, but distinct different colors."
   ]
  },
  {
   "cell_type": "code",
   "execution_count": null,
   "metadata": {},
   "outputs": [],
   "source": []
  },
  {
   "cell_type": "code",
   "execution_count": null,
   "metadata": {},
   "outputs": [],
   "source": [
    "# %load answers/altair_ex_2.py"
   ]
  },
  {
   "cell_type": "markdown",
   "metadata": {},
   "source": [
    "<a id='prop'></a>\n",
    "## 4. Properties \n",
    "\n",
    "Whereas marks and data encodings are concerned with the visual output of plot contents, `properties` allow you to alter or specify generic properties of the chart itself. Such as the height and width: "
   ]
  },
  {
   "cell_type": "code",
   "execution_count": null,
   "metadata": {},
   "outputs": [],
   "source": [
    "alt.Chart(cars).mark_point().encode(\n",
    "    x='Horsepower',\n",
    "    y='Miles_per_Gallon',\n",
    "    color='Origin'\n",
    ").properties(\n",
    "    width=400,\n",
    "    height=200\n",
    ")"
   ]
  },
  {
   "cell_type": "markdown",
   "metadata": {},
   "source": [
    "It also allows you to define a *selection interval*. Depending on the axis you add to `encoding` (x, y or both), it allows you to select a specific section of the chart. We can then select a part of the plot in a draggable box (or line). "
   ]
  },
  {
   "cell_type": "code",
   "execution_count": null,
   "metadata": {},
   "outputs": [],
   "source": [
    "interval = alt.selection_interval(encodings=['x', 'y'])\n",
    "\n",
    "alt.Chart(cars).mark_point().encode(\n",
    "    x='Horsepower',\n",
    "    y='Miles_per_Gallon',\n",
    "    color='Origin'\n",
    ").properties(\n",
    "    selection=interval\n",
    ")"
   ]
  },
  {
   "cell_type": "markdown",
   "metadata": {},
   "source": [
    "But that's not all! The neat thing about this is that it allows you to make properties of the chart conditional on this selection. For example: "
   ]
  },
  {
   "cell_type": "code",
   "execution_count": null,
   "metadata": {},
   "outputs": [],
   "source": [
    "interval = alt.selection_interval(encodings=['x', 'y'])\n",
    "\n",
    "alt.Chart(cars).mark_point().encode(\n",
    "    x='Horsepower',\n",
    "    y='Miles_per_Gallon',\n",
    "    color=alt.condition(interval, 'Origin', alt.value('lightgray'))\n",
    ").properties(\n",
    "    selection=interval\n",
    ")"
   ]
  },
  {
   "cell_type": "markdown",
   "metadata": {},
   "source": [
    "In this example, all data points *within* the selection are shown in their true color. The data points outside the selection are displayed in gray. Note that we wrap the color lightgray in `alt.value` to prevent altair from interpreting this as a column name in the dataframe. \n",
    "\n",
    "Pretty neat, we'll see later on why this is useful."
   ]
  },
  {
   "cell_type": "markdown",
   "metadata": {},
   "source": [
    "## 5. Interactive\n",
    "A chart in altair can very easily be made interactive by simply adding `.interactive()`. This will allow you to zoom in, both on the data as well as the axis. "
   ]
  },
  {
   "cell_type": "code",
   "execution_count": null,
   "metadata": {},
   "outputs": [],
   "source": [
    "alt.Chart(cars).mark_point().encode(\n",
    "    x='Horsepower',\n",
    "    y='Miles_per_Gallon',\n",
    "    color='Cylinders:O'\n",
    ").properties(\n",
    "    width=400,\n",
    "    height=200\n",
    ").interactive()"
   ]
  },
  {
   "cell_type": "markdown",
   "metadata": {},
   "source": [
    "### <mark>Exercise 3: More plots</mark>\n",
    "\n",
    "Plot `Weight_in_lbs` against `Miles_per_Gallon` for the cars dataset.\n",
    "* The chart should be 300 by 400.\n",
    "* The name and year of the car is displayed as you hover over the elements. \n",
    "* The color of the marks are gray if they fall outside of the selection -- if they fall within, they're based on the origin of the car. \n",
    "* Make the selection based only on the weight of the car"
   ]
  },
  {
   "cell_type": "code",
   "execution_count": null,
   "metadata": {},
   "outputs": [],
   "source": []
  },
  {
   "cell_type": "code",
   "execution_count": null,
   "metadata": {},
   "outputs": [],
   "source": [
    "# %load answers/altair_ex_3.py"
   ]
  },
  {
   "cell_type": "markdown",
   "metadata": {},
   "source": [
    "# Operators & Combining Plots\n",
    "Operators are a way to combine multiple plots. The most important ones are: \n",
    "* `|`: horizontally stacks plots. \n",
    "* `&`: vertically stacks plots. \n",
    "* `+`: combines two plots. \n",
    "\n",
    "Let's first define a base chart, where `x` is not yet specified. "
   ]
  },
  {
   "cell_type": "code",
   "execution_count": null,
   "metadata": {},
   "outputs": [],
   "source": [
    "base_chart = alt.Chart(cars).mark_point().encode(\n",
    "    y='Miles_per_Gallon',\n",
    "    color='Cylinders:O',\n",
    ").properties(\n",
    "    width=200,\n",
    "    height=200\n",
    ").interactive()"
   ]
  },
  {
   "cell_type": "markdown",
   "metadata": {},
   "source": [
    "Define `x` as Horsepower and Acceleration respectively, and stack the two charts horizontally: "
   ]
  },
  {
   "cell_type": "code",
   "execution_count": null,
   "metadata": {},
   "outputs": [],
   "source": [
    "base_chart.encode(x='Horsepower') | base_chart.encode(x='Acceleration')"
   ]
  },
  {
   "cell_type": "markdown",
   "metadata": {},
   "source": [
    "Now let's stack the same charts vertically: "
   ]
  },
  {
   "cell_type": "code",
   "execution_count": null,
   "metadata": {},
   "outputs": [],
   "source": [
    "base_chart.encode(x='Horsepower') & base_chart.encode(x='Acceleration')"
   ]
  },
  {
   "cell_type": "markdown",
   "metadata": {},
   "source": [
    "Stacking charts together which are interactive yields some interesting results. "
   ]
  },
  {
   "cell_type": "code",
   "execution_count": null,
   "metadata": {
    "scrolled": true
   },
   "outputs": [],
   "source": [
    "base_chart = alt.Chart(cars).mark_point().encode(\n",
    "    y='Miles_per_Gallon',\n",
    "    color='Origin'\n",
    ").interactive()\n",
    "\n",
    "base_chart.encode(x = 'Horsepower') | base_chart.encode(x = 'Acceleration')"
   ]
  },
  {
   "cell_type": "markdown",
   "metadata": {},
   "source": [
    "As we zoom in or out on the Miles_per_Gallon on one chart, it has a similar effect on the other chart. This has an interesting effect when we combine it with the interval selection we've seen previously. \n",
    "\n",
    "Every time the selection is moved around, the renderer is signalled that the selection has changed and what the points currently in the selection are. These points are then highlighted on *both* charts. "
   ]
  },
  {
   "cell_type": "code",
   "execution_count": null,
   "metadata": {},
   "outputs": [],
   "source": [
    "interval = alt.selection_interval(encodings=['x', 'y'])\n",
    "\n",
    "chart = alt.Chart(cars).mark_point().encode(\n",
    "    x='Horsepower',\n",
    "    y='Miles_per_Gallon',\n",
    "    color=alt.condition(interval, 'Origin', alt.value('lightgray'))\n",
    ").properties(selection=interval)\n",
    "\n",
    "chart | chart.encode(x='Acceleration')"
   ]
  },
  {
   "cell_type": "markdown",
   "metadata": {},
   "source": [
    "### <mark>Exercise 4: Combining skills</mark>\n",
    "\n",
    "**Question 1:** \n",
    "Create two charts next to each other plotting `Horsepower` vs. `Miles_per_Gallon`: one containing only USA data points, the other containing all data_points. Add a selection interval and make the selected data points the color of their origin.\n",
    "\n",
    "Say you create a selection box on the chart with USA data only. Then take a look at the highlighted data points in the chart with all data points. Does this behave as expected? Do the highlighted points all belong to USA-manufactured cars, or are all points that fall within that x-y range box included? Why do you think that is? "
   ]
  },
  {
   "cell_type": "code",
   "execution_count": null,
   "metadata": {},
   "outputs": [],
   "source": []
  },
  {
   "cell_type": "markdown",
   "metadata": {},
   "source": [
    "**Question 2:**\n",
    "Create a 2x2 grid with charts plotting `Horsepower` vs. `Miles_per_Gallon`. First chart: all data, second chart: USA data only, third chart: Japanese cars only, fourth chart: European cars only. \n",
    "    "
   ]
  },
  {
   "cell_type": "code",
   "execution_count": null,
   "metadata": {},
   "outputs": [],
   "source": []
  },
  {
   "cell_type": "markdown",
   "metadata": {},
   "source": [
    "**Question 3:**\n",
    "Create 4 interactive charts in a 2x2 grid where the color is based on the origin and the y-axis is `Miles_per_Gallon`. The tooltip provides information on the name and year the car was made. The x-axis for the 4 charts are, respectively: `Weight_in_lbs`, `Horsepower`, `Acceleration` and `Displacement`. \n",
    "\n",
    "Is there a difference in how you contruct the four charts between question 2 and 3? "
   ]
  },
  {
   "cell_type": "code",
   "execution_count": null,
   "metadata": {},
   "outputs": [],
   "source": []
  },
  {
   "cell_type": "code",
   "execution_count": null,
   "metadata": {},
   "outputs": [],
   "source": [
    "# %load answers/altair_ex_4.py"
   ]
  },
  {
   "cell_type": "markdown",
   "metadata": {},
   "source": [
    "# Saving your chart\n",
    "\n",
    "Say we're happy with our chart, and we want to save it. There are a few options. \n",
    "* HTML\n",
    "* JSON\n",
    "\n",
    "Saving your chart is as easy as calling `.save` after your chart with the appropriate extension. \n",
    "\n",
    "There are other formats you can save in, some of which require the altair_saver package. For now let's just look at html and json."
   ]
  },
  {
   "cell_type": "code",
   "execution_count": null,
   "metadata": {},
   "outputs": [],
   "source": [
    "chart"
   ]
  },
  {
   "cell_type": "code",
   "execution_count": null,
   "metadata": {},
   "outputs": [],
   "source": [
    "chart.save('chart.html')"
   ]
  },
  {
   "cell_type": "code",
   "execution_count": null,
   "metadata": {},
   "outputs": [],
   "source": [
    "print(chart.to_html())"
   ]
  },
  {
   "cell_type": "code",
   "execution_count": null,
   "metadata": {},
   "outputs": [],
   "source": [
    "print(chart.to_json()) "
   ]
  },
  {
   "cell_type": "markdown",
   "metadata": {},
   "source": [
    "# Limitation\n",
    "\n",
    "As great as `altair` is for many purposes, there is a key limitation to working with it, and that is related to the size of the dataset."
   ]
  },
  {
   "cell_type": "code",
   "execution_count": null,
   "metadata": {},
   "outputs": [],
   "source": [
    "data = pd.DataFrame({'x': range(1000)})\n",
    "alt.Chart(data).mark_line().encode(x='x', y='x')"
   ]
  },
  {
   "cell_type": "code",
   "execution_count": null,
   "metadata": {},
   "outputs": [],
   "source": [
    "data = pd.DataFrame({'x': range(10000)})\n",
    "alt.Chart(data).mark_line().encode(x='x', y='x')"
   ]
  },
  {
   "cell_type": "markdown",
   "metadata": {},
   "source": [
    "When the number of rows in your dataset exceeds 5000, altair will return a `MaxRowsError`. This is not because Altair cannot handle larger datasets, but it is because it is important for the user to think carefully about how large datasets are handled. Altair typically leads to relatively large notebooks, even with smaller datasets. It is quite easy to end up with very large notebooks of you make many visualisations of a large dataset, and this error is a way of preventing that.\n",
    "\n",
    "There are a few ways to circumvent this, including disabling the error through `alt.data_transformers.disable_max_rows()`. You are, however, strongly discouraged from doing this as the performance will most likely suffer. "
   ]
  },
  {
   "cell_type": "markdown",
   "metadata": {},
   "source": [
    "# Summary\n",
    "Altair is a great, intuitive, declarative alternative for `matplotlib` and internal plotting of `pandas` with many advantages:\n",
    "\n",
    "* Seperation of concerns: <br><br>\n",
    "    - Pass the data/dataframe with `alt.Chart()`\n",
    "    - Determine the mark with `.mark_*()`\n",
    "    - All things concerning your data are handled through `.encode()`\n",
    "    - Use `.properties()` to set the non-data non-mark properties of your plot\n",
    "    - Make your plot interactive with `.interactive()` <br><br>\n",
    "* Easily combine plots with operators `|`, `&` and `+`\n",
    "* Provides interactivity with tooltip and selection interval\n",
    "* Save your plots to HTML or JSON for easy access for the front-end\n",
    "\n",
    "*Limitations*: per default, altair only accepts dataframes with less than 5000 rows. There are ways around this, but it is strongly discouraged as this can easily lead to relatively large notebooks.\n"
   ]
  }
 ],
 "metadata": {
  "kernelspec": {
   "display_name": "Python 3 (ipykernel)",
   "language": "python",
   "name": "python3"
  },
  "language_info": {
   "codemirror_mode": {
    "name": "ipython",
    "version": 3
   },
   "file_extension": ".py",
   "mimetype": "text/x-python",
   "name": "python",
   "nbconvert_exporter": "python",
   "pygments_lexer": "ipython3",
   "version": "3.9.7"
  }
 },
 "nbformat": 4,
 "nbformat_minor": 4
}
