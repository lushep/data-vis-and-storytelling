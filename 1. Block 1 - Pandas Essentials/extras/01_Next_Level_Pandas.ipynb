{
 "cells": [
  {
   "cell_type": "markdown",
   "metadata": {},
   "source": [
    "<img src='images/gdd-logo.png' width='300px' align='right' style=\"padding: 15px\">\n",
    "\n",
    "# Next Level Pandas\n",
    "\n",
    "Now that we have covered the essentials of pandas, there are some things we should know to ensure our code can go 'to the next level'. \n",
    "\n",
    "In this notebook we will briefly go through a few intermediate and advanced techniques to improve our data analytics and data science skills.\n",
    "\n",
    "- [Using the pandas pipeline](#pipe)\n",
    "    - [Pipe exercise](#pipe-ex)\n",
    "- [Plotting with pandas using subplots](#plot)\n",
    "    - [Plotting exercise](#plot-ex)"
   ]
  },
  {
   "cell_type": "code",
   "execution_count": null,
   "metadata": {},
   "outputs": [],
   "source": [
    "import pandas as pd\n",
    "import matplotlib.pyplot as plt"
   ]
  },
  {
   "cell_type": "code",
   "execution_count": null,
   "metadata": {},
   "outputs": [],
   "source": [
    "banking = pd.read_csv('data/banking.csv')"
   ]
  },
  {
   "cell_type": "markdown",
   "metadata": {},
   "source": [
    "<a id='pipe'></a>\n",
    "\n",
    "----\n",
    "\n",
    "# <font color='#1EB0E0'>Pipe it together</font>\n",
    "    \n",
    "Now that we have this good practice of chaining together, we can actually take this one step further. Let's say we have the following chain where we \n",
    "- Drop unwanted columns\n",
    "- Create the `can_vote` column\n",
    "- Filter on `exited` and `can_vote`"
   ]
  },
  {
   "cell_type": "code",
   "execution_count": null,
   "metadata": {},
   "outputs": [],
   "source": [
    "(\n",
    "    banking\n",
    "    .drop(columns = ['customerid', 'surname'])\n",
    "    .assign(can_vote = lambda df: df['age'] >= 18)\n",
    "    .loc[lambda df: df['can_vote'] & (df['exited']==1)]\n",
    ")"
   ]
  },
  {
   "cell_type": "markdown",
   "metadata": {},
   "source": [
    "What we can do is modularise our concerns into functions. Our functions should **have the first parameter as the dataframe**. Then we can use the `pipe` function to run the function. \n",
    "\n",
    "Let's see this with the first chain:"
   ]
  },
  {
   "cell_type": "code",
   "execution_count": null,
   "metadata": {},
   "outputs": [],
   "source": [
    "def remove_unwanted_cols(df):\n",
    "    return df.drop(columns = ['customerid', 'surname'])"
   ]
  },
  {
   "cell_type": "code",
   "execution_count": null,
   "metadata": {},
   "outputs": [],
   "source": [
    "(\n",
    "    banking\n",
    "    .pipe(remove_unwanted_cols)\n",
    ")"
   ]
  },
  {
   "cell_type": "markdown",
   "metadata": {},
   "source": [
    "We can even be a bit smarter about how we specify the unwanted columns:"
   ]
  },
  {
   "cell_type": "code",
   "execution_count": null,
   "metadata": {},
   "outputs": [],
   "source": [
    "def remove_unwanted_cols(df, cols):\n",
    "    return df.drop(columns = cols)\n",
    "\n",
    "(\n",
    "    banking\n",
    "    .pipe(remove_unwanted_cols, cols=['customerid', 'surname'])\n",
    ")"
   ]
  },
  {
   "cell_type": "markdown",
   "metadata": {},
   "source": [
    "What benefits do you think come from this method?"
   ]
  },
  {
   "cell_type": "raw",
   "metadata": {},
   "source": [
    "Answer: "
   ]
  },
  {
   "cell_type": "markdown",
   "metadata": {},
   "source": [
    "<a id='pipe-ex'></a>\n",
    "\n",
    "## <mark style='background-color:#364069;color:#1EB0E0'>Exercise - The pipe method</mark>\n",
    "\n",
    "Use the pipe method to add the next two steps:\n",
    "- The function to add the column `can_vote` is already written \n",
    "    - add a pipe method for this function to the chain below\n",
    "- Create a new function to filter using the `can_vote` and `exited` column \n",
    "    - add a pipe method for this function to the chain below"
   ]
  },
  {
   "cell_type": "code",
   "execution_count": null,
   "metadata": {},
   "outputs": [],
   "source": [
    "def remove_unwanted_cols(df, cols):\n",
    "    return df.drop(columns = cols)\n",
    "\n",
    "def create_can_vote(df, col='age', age=18):\n",
    "    return df.assign(can_vote = lambda df: df[col] >= age)\n",
    "\n",
    "# Write your new function here\n"
   ]
  },
  {
   "cell_type": "code",
   "execution_count": null,
   "metadata": {},
   "outputs": [],
   "source": [
    "(\n",
    "    banking\n",
    "    .pipe(remove_unwanted_cols, cols=['customerid', 'surname'])\n",
    "    # Add your new pipes here\n",
    "    \n",
    ")"
   ]
  },
  {
   "cell_type": "markdown",
   "metadata": {},
   "source": [
    "**Answers**"
   ]
  },
  {
   "cell_type": "code",
   "execution_count": null,
   "metadata": {},
   "outputs": [],
   "source": [
    "%load answers/ex-pipe.py"
   ]
  },
  {
   "cell_type": "markdown",
   "metadata": {},
   "source": [
    "---\n",
    "<a id='plot'></a>\n",
    "\n",
    "# <font color='#1EB0E0'>Plotting with pandas</font>\n",
    "\n",
    "Let's have a look at some plots. Say we want to look at the average (mean) balance split by country:"
   ]
  },
  {
   "cell_type": "code",
   "execution_count": null,
   "metadata": {},
   "outputs": [],
   "source": [
    "(\n",
    "    banking\n",
    "    .groupby('geography')\n",
    "    ['balance']\n",
    "    .mean()\n",
    ")"
   ]
  },
  {
   "cell_type": "markdown",
   "metadata": {},
   "source": [
    "It might make sense to plot this to add a visual element to our analysis.\n",
    "\n",
    "We can use the `kind=` parameter to specify a bar plot."
   ]
  },
  {
   "cell_type": "code",
   "execution_count": null,
   "metadata": {},
   "outputs": [],
   "source": [
    "(\n",
    "    banking\n",
    "    .groupby('geography')\n",
    "    ['balance']\n",
    "    .mean()\n",
    "    .plot(kind='bar', title='Salary of customer split by Country')\n",
    ")"
   ]
  },
  {
   "cell_type": "markdown",
   "metadata": {},
   "source": [
    "**Questions**"
   ]
  },
  {
   "cell_type": "markdown",
   "metadata": {},
   "source": [
    "Why is a bar plot the best option here?"
   ]
  },
  {
   "cell_type": "raw",
   "metadata": {},
   "source": [
    "..."
   ]
  },
  {
   "cell_type": "markdown",
   "metadata": {},
   "source": [
    "What is this line of code doing?\n",
    "```python\n",
    ".sort_values(ascending=False)\n",
    "```"
   ]
  },
  {
   "cell_type": "raw",
   "metadata": {},
   "source": [
    "..."
   ]
  },
  {
   "cell_type": "markdown",
   "metadata": {},
   "source": [
    "With `fig, ax = plt.subplots()` we can control things like the figsize, figure/axes we are working with and also easily control subplots."
   ]
  },
  {
   "cell_type": "markdown",
   "metadata": {},
   "source": [
    "<a id='plot-ex'></a>\n",
    "\n",
    "# <mark style='background-color:#364069;color:#1EB0E0'>Exercise - Using `plt.subplots()`</mark>\n",
    "\n",
    "Change the code so that\n",
    "- Each subplot sits side-by-side rather than above one another\n",
    "- The figsize suits the new layout better\n",
    "- the colour of the first bar plot is red and the second green"
   ]
  },
  {
   "cell_type": "code",
   "execution_count": null,
   "metadata": {},
   "outputs": [],
   "source": [
    "import matplotlib.pyplot as plt\n",
    "\n",
    "fig, (ax1, ax2) = plt.subplots(2, figsize=(10, 8))\n",
    "\n",
    "# subplot 1\n",
    "(\n",
    "    banking\n",
    "    .groupby('geography')\n",
    "    ['balance']\n",
    "    .mean()\n",
    "    .plot(kind='bar', ax=ax1, title='Salary of customer split by Country')\n",
    ")\n",
    "\n",
    "# subplot 2\n",
    "(\n",
    "    banking\n",
    "    .groupby('geography')\n",
    "    ['age']\n",
    "    .mean()\n",
    "    .plot(kind='bar', ax=ax2, title='Age of customer split by Country')\n",
    ")\n",
    "\n",
    "# use to separate graphs slightly\n",
    "fig.tight_layout()"
   ]
  },
  {
   "cell_type": "markdown",
   "metadata": {},
   "source": [
    "**Answers**"
   ]
  },
  {
   "cell_type": "code",
   "execution_count": null,
   "metadata": {},
   "outputs": [],
   "source": [
    "%load answers/ex-plot.py"
   ]
  }
 ],
 "metadata": {
  "kernelspec": {
   "display_name": "Python 3 (ipykernel)",
   "language": "python",
   "name": "python3"
  },
  "language_info": {
   "codemirror_mode": {
    "name": "ipython",
    "version": 3
   },
   "file_extension": ".py",
   "mimetype": "text/x-python",
   "name": "python",
   "nbconvert_exporter": "python",
   "pygments_lexer": "ipython3",
   "version": "3.9.7"
  }
 },
 "nbformat": 4,
 "nbformat_minor": 4
}
