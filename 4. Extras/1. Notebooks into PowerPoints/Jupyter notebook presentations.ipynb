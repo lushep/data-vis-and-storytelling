{
 "cells": [
  {
   "cell_type": "markdown",
   "metadata": {
    "slideshow": {
     "slide_type": "slide"
    }
   },
   "source": [
    "<img src=images/gdd-logo.png width=300px align=right>\n",
    "\n",
    "# Title Slide\n",
    "\n",
    "This presentation is designed to show how to convert notebooks into presentations.\n",
    "\n",
    "- How to\n",
    "- Styling\n",
    "- Slide Types\n",
    "- Live coding"
   ]
  },
  {
   "cell_type": "markdown",
   "metadata": {
    "slideshow": {
     "slide_type": "slide"
    }
   },
   "source": [
    "<a id='how'></a>\n",
    "\n",
    "# How to create Presentations out of Jupyter Notebooks"
   ]
  },
  {
   "cell_type": "markdown",
   "metadata": {
    "slideshow": {
     "slide_type": "subslide"
    }
   },
   "source": [
    "There are two options:\n",
    "\n",
    "- **Download as an HTML slide deck** (not interactive)\n",
    "    - File -> Download as\n",
    "    \n",
    "    <img src=images/download-ppt.png width=200px align=left>"
   ]
  },
  {
   "cell_type": "markdown",
   "metadata": {
    "slideshow": {
     "slide_type": "subslide"
    }
   },
   "source": [
    "- [RISE](https://rise.readthedocs.io/en/stable/) (interactive)\n",
    "    - `conda install -c conda-forge rise`\n",
    "    - `pip install rise`\n",
    "    \n",
    "    <img src=images/button.png width=500px align=left>"
   ]
  },
  {
   "cell_type": "markdown",
   "metadata": {
    "slideshow": {
     "slide_type": "subslide"
    }
   },
   "source": [
    "# Pros and Cons\n",
    "\n",
    "|Option|Pros|Cons|\n",
    "|---|---|---|\n",
    "|Download as HTML|<li>Formatting is preserved well<li>Can easily share as a single file|<li>No interaction<li>Need to convert<li>Lose images when converting, unless linked to centralise place|\n",
    "|Rise|<li>Interactive<li>No conversion needed<li>Live interaction with current folder|<li>Formatting can sometimes mess up<li>Others can only present with Jupyter + Rise|"
   ]
  },
  {
   "cell_type": "markdown",
   "metadata": {
    "slideshow": {
     "slide_type": "slide"
    }
   },
   "source": [
    "# Styling\n",
    "\n",
    "With markdown cells you can use a combination of <font color='brown'>markdown</font> and <font color='blue'>HTML</font>."
   ]
  },
  {
   "cell_type": "markdown",
   "metadata": {
    "slideshow": {
     "slide_type": "subslide"
    }
   },
   "source": [
    "## Pictures\n",
    "\n",
    "You can add pictures easily using markdown:\n",
    "\n",
    "```markdown\n",
    "![](images/name-of-image.png)\n",
    "```\n",
    "\n",
    "or HTML\n",
    "```html\n",
    "<img src=images/URL-of-image>\n",
    "```"
   ]
  },
  {
   "cell_type": "markdown",
   "metadata": {
    "slideshow": {
     "slide_type": "subslide"
    }
   },
   "source": [
    "## Pictures with markdown\n",
    "\n",
    "Markdown is quite limited with positioning/size of picture:\n",
    "\n",
    "![](images/dog-surf.jpeg)"
   ]
  },
  {
   "cell_type": "markdown",
   "metadata": {
    "slideshow": {
     "slide_type": "subslide"
    }
   },
   "source": [
    "## Pictures with HTML\n",
    "\n",
    "<img src=images/starfish.jpg width=200 align=left style='padding:10px'>\n",
    "\n",
    "With HTML you have more control - although it's a little consistent compared to regular HTML.\n",
    "\n"
   ]
  },
  {
   "cell_type": "markdown",
   "metadata": {
    "slideshow": {
     "slide_type": "slide"
    }
   },
   "source": [
    "# Slide Types"
   ]
  },
  {
   "cell_type": "markdown",
   "metadata": {},
   "source": [
    "If your next cell has no Slide Type it will be included in the cell above."
   ]
  },
  {
   "cell_type": "markdown",
   "metadata": {
    "slideshow": {
     "slide_type": "slide"
    }
   },
   "source": [
    "# Example of Sub-slides"
   ]
  },
  {
   "cell_type": "markdown",
   "metadata": {
    "slideshow": {
     "slide_type": "subslide"
    }
   },
   "source": [
    "Maybe I want..."
   ]
  },
  {
   "cell_type": "markdown",
   "metadata": {
    "slideshow": {
     "slide_type": "subslide"
    }
   },
   "source": [
    "To show slide-by-slide..."
   ]
  },
  {
   "cell_type": "markdown",
   "metadata": {
    "slideshow": {
     "slide_type": "subslide"
    }
   },
   "source": [
    "But the slides are part of a group!"
   ]
  },
  {
   "cell_type": "markdown",
   "metadata": {
    "slideshow": {
     "slide_type": "slide"
    }
   },
   "source": [
    "# Example of fragements\n",
    "\n",
    "When using fragments"
   ]
  },
  {
   "cell_type": "markdown",
   "metadata": {
    "slideshow": {
     "slide_type": "fragment"
    }
   },
   "source": [
    "I can also..."
   ]
  },
  {
   "cell_type": "markdown",
   "metadata": {
    "slideshow": {
     "slide_type": "fragment"
    }
   },
   "source": [
    "Show a full slide..."
   ]
  },
  {
   "cell_type": "markdown",
   "metadata": {
    "slideshow": {
     "slide_type": "fragment"
    }
   },
   "source": [
    "Bit-by-bit"
   ]
  },
  {
   "cell_type": "markdown",
   "metadata": {
    "slideshow": {
     "slide_type": "slide"
    }
   },
   "source": [
    "# Example of Notes\n",
    "\n",
    "You can add notes to your slides"
   ]
  },
  {
   "cell_type": "markdown",
   "metadata": {
    "slideshow": {
     "slide_type": "notes"
    }
   },
   "source": [
    "When you present this slide say this:\n",
    "    A man a plan a canal Panama"
   ]
  },
  {
   "cell_type": "markdown",
   "metadata": {
    "slideshow": {
     "slide_type": "slide"
    }
   },
   "source": [
    "# Coding"
   ]
  },
  {
   "cell_type": "code",
   "execution_count": null,
   "metadata": {
    "slideshow": {
     "slide_type": "fragment"
    }
   },
   "outputs": [],
   "source": [
    "print('Hello, World!')"
   ]
  },
  {
   "cell_type": "markdown",
   "metadata": {
    "slideshow": {
     "slide_type": "slide"
    }
   },
   "source": [
    "# Example of Skip\n",
    "\n",
    "Maybe I want to show some cool output... but not the entire code.\n",
    "\n",
    "Below I run the function `list_of_fizzbuzz` that is defined in a hidden cell."
   ]
  },
  {
   "cell_type": "code",
   "execution_count": null,
   "metadata": {
    "slideshow": {
     "slide_type": "skip"
    }
   },
   "outputs": [],
   "source": [
    "def fizzbuzz(number):\n",
    "    noise_mapping = [(3, 'Fizz'),\n",
    "                     (5, 'Buzz')]\n",
    "    \n",
    "    noise_lst = [noise for factor, noise in noise_mapping if number % factor == 0]\n",
    "    \n",
    "    return ''.join(noise_lst) if noise_lst else 'No Fizz or Buzz'\n",
    "\n",
    "def list_of_fizzbuzz(lst):\n",
    "    return [fizzbuzz(num) for num in lst]\n",
    "        "
   ]
  },
  {
   "cell_type": "code",
   "execution_count": null,
   "metadata": {
    "slideshow": {
     "slide_type": "subslide"
    }
   },
   "outputs": [],
   "source": [
    "list_of_fizzbuzz([311, 520, 453, 352, 636, 765, 342, 420])"
   ]
  }
 ],
 "metadata": {
  "celltoolbar": "Slideshow",
  "kernelspec": {
   "display_name": "Python 3",
   "language": "python",
   "name": "python3"
  },
  "language_info": {
   "codemirror_mode": {
    "name": "ipython",
    "version": 3
   },
   "file_extension": ".py",
   "mimetype": "text/x-python",
   "name": "python",
   "nbconvert_exporter": "python",
   "pygments_lexer": "ipython3",
   "version": "3.8.5"
  }
 },
 "nbformat": 4,
 "nbformat_minor": 4
}
